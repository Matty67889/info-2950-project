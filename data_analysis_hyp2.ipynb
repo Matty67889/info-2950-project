{
 "cells": [
  {
   "cell_type": "code",
   "execution_count": null,
   "metadata": {},
   "outputs": [],
   "source": [
    "import numpy as np\n",
    "import pandas as pd\n",
    "import matplotlib.pyplot as plt\n",
    "import seaborn as sns"
   ]
  },
  {
   "cell_type": "code",
   "execution_count": null,
   "metadata": {
    "vscode": {
     "languageId": "plaintext"
    }
   },
   "outputs": [],
   "source": [
    "def clean_dataset(data, country_type_label):\n",
    "    \n",
    "    \"\"\"\n",
    "    The clean_dataset function takes a dataset and \n",
    "    a country type label as inputs,filters the dataset\n",
    "    to include only specific economic indicators, cleans\n",
    "    the data by dropping irrelevant or missing columns,\n",
    "    interpolates missing values for years where applicable,\n",
    "    and finally returns a cleaned dataset with an additional \n",
    "    column for the country type.\n",
    "\n",
    "    Parameters:\n",
    "    data: A pandas DataFrame containing raw data with \n",
    "    economic indicators for various countries and years.\n",
    "    \n",
    "    country_type_label: A string that labels the dataset \n",
    "    based on the income level of the country (e.g., \n",
    "    'low_income', 'lower_middle', 'upper_middle', 'high_income').\n",
    "\n",
    "    \"\"\"\n",
    "    #variables we are interested in\n",
    "    indicators = [\n",
    "        'GDP growth (annual %)',\n",
    "        'Government expenditure on education, total (% of GDP)',\n",
    "        'Unemployment, total (% of total labor force) (modeled ILO estimate)'\n",
    "    ]\n",
    "    # filter to only include specific economic indicators we are interested in\n",
    "    cleaned_data = data[data['Series Name'].isin(indicators)]\n",
    "    \n",
    "    cleaned_data = cleaned_data.dropna(subset=['Country Name', \\\n",
    "                                    'Country Code', 'Series Name'])\n",
    "\n",
    "    #has too many missing values to be useful\n",
    "    columns_to_drop = ['1960 [YR1960]', '1961 [YR1961]', '1962 [YR1962]', \\\n",
    "                       '1963 [YR1963]', '1964 [YR1964]']\n",
    "    cleaned_data = cleaned_data.drop(columns=columns_to_drop, errors='ignore')\n",
    "\n",
    "    \n",
    "    year_columns = [col for col in cleaned_data.columns \\\n",
    "                    if col.split()[0].isdigit()]\n",
    "    cleaned_data[year_columns] =\\\n",
    "    cleaned_data[year_columns].replace(\"..\", pd.NA).apply(pd.to_numeric, errors='coerce')\n",
    "\n",
    "    #linear interpolation to fill in NA\n",
    "    cleaned_data[year_columns] =\\\n",
    "    cleaned_data[year_columns].interpolate(method='linear', axis=0)\n",
    "    #drop any remaining NA rows\n",
    "    cleaned_data = cleaned_data.dropna()\n",
    "    #add in a col to label each country's income level\n",
    "    cleaned_data['country_type'] = country_type_label\n",
    "    return cleaned_data"
   ]
  },
  {
   "cell_type": "code",
   "execution_count": null,
   "metadata": {},
   "outputs": [],
   "source": [
    "#the four data source each with different income levels of countries\n",
    "file_paths = [\n",
    "    '94086144-6ad8-4b75-ac26-1b60a764018a_Data.csv',  \n",
    "    '3fd493b6-dfe0-4afd-b296-1b5892e64ba8_Data.csv',  \n",
    "    '579772b1-602f-4cf6-ac0b-1bb1289918f8_Data.csv',  \n",
    "    '5026bb4a-f8ac-4ee9-860c-f83d47a7aded_Data.csv' \n",
    "]\n",
    "\n",
    "country_types = ['low_income', 'lower_middle', 'upper_middle', 'high_income']\n",
    "\n",
    "cleaned_datasets = []\n",
    "\n",
    "#cleaning each file and merging in to one \n",
    "for file_path, country_type in zip(file_paths, country_types):\n",
    "    data = pd.read_csv(file_path)\n",
    "    cleaned_data = clean_dataset(data, country_type)\n",
    "    cleaned_datasets.append(cleaned_data)\n",
    "\n",
    "merged_data = pd.concat(cleaned_datasets, ignore_index=True)\n",
    "merged_file_path = 'final_cleaned_data.csv'\n",
    "\n",
    "print(merged_data.shape)\n",
    "merged_data"
   ]
  },
  {
   "cell_type": "markdown",
   "metadata": {},
   "source": [
    "We first melt the `merged_df` so that we have a year attached to each country/economic indicator combo."
   ]
  },
  {
   "cell_type": "code",
   "execution_count": null,
   "metadata": {},
   "outputs": [],
   "source": [
    "id_vars = [\n",
    "    'Country Name', 'Country Code', 'Series Name', 'Series Code',\n",
    "    'country_type'\n",
    "]\n",
    "year_cols = [\n",
    "    '1965 [YR1965]', '1966 [YR1966]', '1967 [YR1967]', '1968 [YR1968]',\n",
    "       '1969 [YR1969]', '1970 [YR1970]', '1971 [YR1971]', '1972 [YR1972]',\n",
    "       '1973 [YR1973]', '1974 [YR1974]', '1975 [YR1975]', '1976 [YR1976]',\n",
    "       '1977 [YR1977]', '1978 [YR1978]', '1979 [YR1979]', '1980 [YR1980]',\n",
    "       '1981 [YR1981]', '1982 [YR1982]', '1983 [YR1983]', '1984 [YR1984]',\n",
    "       '1985 [YR1985]', '1986 [YR1986]', '1987 [YR1987]', '1988 [YR1988]',\n",
    "       '1989 [YR1989]', '1990 [YR1990]', '1991 [YR1991]', '1992 [YR1992]',\n",
    "       '1993 [YR1993]', '1994 [YR1994]', '1995 [YR1995]', '1996 [YR1996]',\n",
    "       '1997 [YR1997]', '1998 [YR1998]', '1999 [YR1999]', '2000 [YR2000]',\n",
    "       '2001 [YR2001]', '2002 [YR2002]', '2003 [YR2003]', '2004 [YR2004]',\n",
    "       '2005 [YR2005]', '2006 [YR2006]', '2007 [YR2007]', '2008 [YR2008]',\n",
    "       '2009 [YR2009]', '2010 [YR2010]', '2011 [YR2011]', '2012 [YR2012]',\n",
    "       '2013 [YR2013]', '2014 [YR2014]', '2015 [YR2015]', '2016 [YR2016]',\n",
    "       '2017 [YR2017]', '2018 [YR2018]', '2019 [YR2019]', '2020 [YR2020]',\n",
    "       '2021 [YR2021]', '2022 [YR2022]', '2023 [YR2023]']\n",
    "# melt to have years as a column\n",
    "analysis_df = merged_data.melt(\n",
    "    id_vars=id_vars,\n",
    "    value_vars=year_cols,\n",
    "    var_name='Year',\n",
    "    value_name='value'\n",
    ") \n",
    "\n",
    "# pivot to get column for each economic indicator\n",
    "index = ['Country Name', 'Country Code', 'country_type', 'Year']\n",
    "analysis_df = analysis_df.pivot(\n",
    "    index=index,\n",
    "    columns='Series Name',\n",
    "    values='value'\n",
    ")\n",
    "\n",
    "# Inspiraiton from : https://stackoverflow.com/questions/28337117/how-to-pivot-a-dataframe-in-pandas\n",
    "analysis_df = analysis_df.rename_axis(columns=None).reset_index()\n",
    "analysis_df"
   ]
  },
  {
   "cell_type": "markdown",
   "metadata": {},
   "source": [
    "We then pivot to associate the value of economic indicator with the country and year it occured in."
   ]
  }
 ],
 "metadata": {
  "kernelspec": {
   "display_name": "Python 3 (ipykernel)",
   "language": "python",
   "name": "python3"
  },
  "language_info": {
   "codemirror_mode": {
    "name": "ipython",
    "version": 3
   },
   "file_extension": ".py",
   "mimetype": "text/x-python",
   "name": "python",
   "nbconvert_exporter": "python",
   "pygments_lexer": "ipython3",
   "version": "3.12.3"
  }
 },
 "nbformat": 4,
 "nbformat_minor": 4
}
