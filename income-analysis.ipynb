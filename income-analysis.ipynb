{
 "cells": [
  {
   "cell_type": "markdown",
   "id": "b1e60a3e",
   "metadata": {},
   "source": [
    "# INFO 2950 Phase II"
   ]
  },
  {
   "cell_type": "markdown",
   "id": "bcf0b554",
   "metadata": {},
   "source": [
    "## Research Questions"
   ]
  },
  {
   "cell_type": "markdown",
   "id": "7f336ee1-2290-42ad-b87b-5864cd6a427a",
   "metadata": {},
   "source": [
    "We aim to investigate the question(s):\n",
    "\n",
    "How does government expenditure on education impact long-term economic growth and unemployment in developing versus developed countries?"
   ]
  },
  {
   "cell_type": "markdown",
   "id": "59a825f8",
   "metadata": {},
   "source": [
    "## Data Description\n",
    "\n",
    "# What are the observations (rows) and the attributes (columns)?\n",
    "\n",
    "Observations (Rows): Each row in the dataset corresponds to a country and a specific economic indicator (e.g., GDP growth, government expenditure on education, or unemployment) for mulitple years(1965-2023). The rows are structured with country-level data, showing trends and changes in economic indicators over time.\n",
    "\n",
    "Attributes (Columns):\n",
    "Country Name: The name of the country.\n",
    "Country Code: A unique identifier for each country (ISO or similar).\n",
    "Series Name: The economic indicator (e.g., GDP growth, unemployment, government expenditure on education).\n",
    "Year Columns: Yearly data points from 1965 to 2023, where each column represents the recorded value of the economic indicator for that specific year.\n",
    "\n",
    "# Why was this dataset created?\n",
    "\n",
    "The dataset was created to track economic performance and trends in different countries over time. The data helps governments, policymakers, economists, and international organizations understand key economic metrics such as GDP growth, government expenditure on education, and unemployment rates, which can guide economic development strategies and interventions in different regions of the world. \n",
    "\n",
    "# Who funded the creation of the dataset?\n",
    "\n",
    "The dataset was funded and crafted by The World Bank, a global financial institution that supports development efforts in countries world-wide. Its mission is to reduce poverty and promote sustainable development so the World Bank regularly collects and publishes data on a wide range of economic indicators to aid in policy-making and development planning.\n",
    "\n",
    "# What processes might have influenced what data was observed and recorded and what was not?\n",
    "\n",
    "Data availability and reliability: Some countries may not have consistent or complete data records due to political instability, inadequate infrastructure, or limited data collection capabilities. This can lead to missing or incomplete data for certain years.\n",
    "\n",
    "Selection of indicators: The choice of economic indicators included in the dataset (e.g., GDP growth, unemployment, government expenditure) reflects the focus areas of development agencies and governments. I believe these indicators chosen are deemed critical and essential for assessing economic health.\n",
    "\n",
    "Reporting standards: Differences in national reporting standards and data collection methods could lead to variations in data quality and coverage.\n",
    "\n",
    "Bias in data recording: Some data points may reflect self-reported figures from governments, which could be subject to political influence or reporting biases, particularly in countries where transparency or accurate reporting is less enforced.\n",
    "\n",
    "# What preprocessing was done, and how did the data come to be in the form that you are using?\n",
    "\n",
    "The original data consisted of four datasets grouped by income level (low_income, lower_middle, upper_middle, high_income) to distinguish between developing and developed countries. Preprocessing was done to standardize economic indicators and ensure consistency across countries and years.\n",
    "\n",
    "First, only the relevant economic indicators—GDP growth, government expenditure on education, and unemployment—were retained. Rows missing essential information like Country Name, Country Code, or Series Name were removed. Year columns from 1960 to 1964 were excluded due to data quality issue, and non-numeric values like \"..\" were replaced with NaN.\n",
    "\n",
    "To handle missing values, group-based imputation filled gaps using country-specific means, and linear interpolation was used to estimate missing data based on adjacent trends. Remaining NaN rows were dropped as there was too many missing data for linear interpolation to work well, and a new column, country_type, was added to label each country based on its income group. Finally, all datasets were merged into a single dataset for analysis.\n",
    "\n",
    "# If people are involved, were they aware of the data collection and if so, what purpose did they expect the data to be used for?\n",
    "\n",
    "Data collection for this type of dataset is typically done through government reporting mechanisms and international data collection efforts, not directly involving individuals. Governments or institutions contributing data likely understood that the information would be used for development assessments, economic planning, and research purposes. However, the individuals whose economic data are aggregated (e.g., unemployment figures) may not be aware of the specific data collection.\n",
    "\n",
    "\n",
    "# Where can your raw source data be found, if applicable? Provide a link to the raw data.\n",
    "\n",
    "https://databank.worldbank.org/source/world-development-indicators#\n",
    "\n",
    "Notes:\n",
    "* excellent note"
   ]
  },
  {
   "cell_type": "markdown",
   "id": "24e38c11-1bbb-490f-a3f2-45870ea530fb",
   "metadata": {},
   "source": [
    "## Imports"
   ]
  },
  {
   "cell_type": "code",
   "execution_count": null,
   "id": "efa31761-7697-4025-9f77-e114832d8086",
   "metadata": {},
   "outputs": [],
   "source": [
    "import numpy as np\n",
    "import pandas as pd\n",
    "import matplotlib.pyplot as plt\n",
    "# import seaborn as sns"
   ]
  },
  {
   "cell_type": "markdown",
   "id": "e596b602",
   "metadata": {},
   "source": [
    "## Data Cleaning"
   ]
  },
  {
   "cell_type": "code",
   "execution_count": null,
   "id": "f0fbb0e4",
   "metadata": {},
   "outputs": [],
   "source": [
    "\n",
    "def clean_dataset(data, country_type_label):\n",
    "\n",
    "    indicators = [\n",
    "        'GDP growth (annual %)',\n",
    "        'Government expenditure on education, total (% of GDP)',\n",
    "        'Unemployment, total (% of total labor force) (modeled ILO estimate)'\n",
    "    ]\n",
    "    cleaned_data = data[data['Series Name'].isin(indicators)]\n",
    "\n",
    "\n",
    "    cleaned_data = cleaned_data.dropna(subset=['Country Name', 'Country Code', 'Series Name'])\n",
    "\n",
    "  \n",
    "    columns_to_drop = ['1960 [YR1960]', '1961 [YR1961]', '1962 [YR1962]', '1963 [YR1963]', '1964 [YR1964]']\n",
    "    cleaned_data = cleaned_data.drop(columns=columns_to_drop, errors='ignore')\n",
    "\n",
    "  \n",
    "    year_columns = [col for col in cleaned_data.columns if col.split()[0].isdigit()]\n",
    "    cleaned_data[year_columns] = cleaned_data[year_columns].replace(\"..\", pd.NA).apply(pd.to_numeric, errors='coerce')\n",
    "\n",
    "\n",
    "    #cleaned_data[year_columns] = cleaned_data.groupby('Country Name')[year_columns].transform(lambda x: x.fillna(x.mean()))\n",
    "\n",
    "   \n",
    "    cleaned_data[year_columns] = cleaned_data[year_columns].interpolate(method='linear', axis=0)\n",
    "    cleaned_data = cleaned_data.dropna()\n",
    "\n",
    "  \n",
    "    cleaned_data['country_type'] = country_type_label\n",
    "\n",
    "    return cleaned_data\n",
    "\n",
    "\n",
    "file_paths = [\n",
    "    '94086144-6ad8-4b75-ac26-1b60a764018a_Data.csv',  \n",
    "    '3fd493b6-dfe0-4afd-b296-1b5892e64ba8_Data.csv',  \n",
    "    '579772b1-602f-4cf6-ac0b-1bb1289918f8_Data.csv',  \n",
    "    '5026bb4a-f8ac-4ee9-860c-f83d47a7aded_Data.csv' \n",
    "]\n",
    "\n",
    "country_types = ['low_income', 'lower_middle', 'upper_middle', 'high_income']\n",
    "\n",
    "cleaned_datasets = []\n",
    "\n",
    "for file_path, country_type in zip(file_paths, country_types):\n",
    "    data = pd.read_csv(file_path)\n",
    "    cleaned_data = clean_dataset(data, country_type)\n",
    "    cleaned_datasets.append(cleaned_data)\n",
    "\n",
    "merged_data = pd.concat(cleaned_datasets, ignore_index=True)\n",
    "merged_file_path = 'final_cleaned_data.csv'\n",
    "#merged_data.to_csv(merged_file_path, index=False)\n",
    "\n",
    "merged_data.head()"
   ]
  },
  {
   "cell_type": "markdown",
   "id": "61b12c70",
   "metadata": {},
   "source": [
    "The data cleaning process involved multiple structured steps to ensure consistency, completeness, and proper formatting of the data for analysis. First, the datasets were filtered to include only relevant economic indicators: GDP growth (annual %), Government expenditure on education (total % of GDP), and Unemployment (total % of labor force, modeled ILO estimate). Any rows missing essential identifying information, such as Country Name, Country Code, or Series Name, were removed to maintain data integrity.\n",
    "\n",
    "Next, columns for the years 1960 to 1964 were removed as these years were not part of the analysis scope. The year columns were then converted to numeric values, replacing non-numeric placeholders like \"..\" with NaN, allowing for proper numeric operations.\n",
    "\n",
    "Following this, group-based imputation was applied. Missing values for each country were filled by calculating the mean for that country's data, ensuring that gaps in the dataset were handled appropriately. For time-series data, linear interpolation was used to estimate missing values based on the trends of adjacent data points. After this, any remaining rows with NaN values were dropped to ensure a clean dataset.\n",
    "\n",
    "Finally, a new column, country_type, was added to each dataset, labeling countries based on the file they came from (e.g., low_income, lower_middle, upper_middle, and high_income). After cleaning each individual dataset, the datasets were concatenated into a single merged dataset"
   ]
  },
  {
   "cell_type": "markdown",
   "id": "06cd26ca",
   "metadata": {},
   "source": [
    "## Data Analysis"
   ]
  },
  {
   "cell_type": "code",
   "execution_count": null,
   "id": "dd14789b-bd27-4a5c-9e38-5a2c98f2b04d",
   "metadata": {},
   "outputs": [],
   "source": [
    "# data analysis code here\n",
    "\n",
    "\n"
   ]
  },
  {
   "cell_type": "markdown",
   "id": "d1f7775a",
   "metadata": {},
   "source": []
  },
  {
   "cell_type": "markdown",
   "id": "c122d873",
   "metadata": {},
   "source": [
    "## Data Limitations"
   ]
  },
  {
   "cell_type": "markdown",
   "id": "7dad2882-a5d4-48e2-bd23-455db25bf3df",
   "metadata": {},
   "source": [
    "Missing Data: Some countries have incomplete data for certain years due to gaps in reporting, which may result in missing or estimated values that do not fully reflect actual conditions.\n",
    "\n",
    "Bias in Self-Reporting: Data from governments may be subject to reporting biases, especially in politically sensitive areas such as unemployment or economic growth.\n",
    "\n",
    "Limited Detail: The dataset contains national-level data, which may overlook regional disparities within countries.\n",
    "\n",
    "Imputation and Interpolation: Filling in missing data using mean imputation and interpolation may introduce trends that do not accurately reflect economic realities."
   ]
  },
  {
   "cell_type": "markdown",
   "id": "dc2ae8a6",
   "metadata": {},
   "source": [
    "## Questions for Reviewers"
   ]
  },
  {
   "cell_type": "markdown",
   "id": "9cfdfa90-83b8-4611-b0bf-0f7bc13d3f4a",
   "metadata": {},
   "source": [
    "* Good question #1\n",
    "* Good question #2"
   ]
  },
  {
   "cell_type": "markdown",
   "id": "83d743f5-446a-4006-9c87-d1448bf2a701",
   "metadata": {},
   "source": [
    "## Resources"
   ]
  },
  {
   "cell_type": "markdown",
   "id": "af836ef2-c440-41d1-8cd9-3ee9e4639d74",
   "metadata": {},
   "source": [
    "Dataset: https://databank.worldbank.org/source/world-development-indicators#"
   ]
  }
 ],
 "metadata": {
  "kernelspec": {
   "display_name": "Python 3.8.9 64-bit",
   "language": "python",
   "name": "python3"
  },
  "language_info": {
   "codemirror_mode": {
    "name": "ipython",
    "version": 3
   },
   "file_extension": ".py",
   "mimetype": "text/x-python",
   "name": "python",
   "nbconvert_exporter": "python",
   "pygments_lexer": "ipython3",
   "version": "3.8.9"
  },
  "vscode": {
   "interpreter": {
    "hash": "31f2aee4e71d21fbe5cf8b01ff0e069b9275f58929596ceb00d14d90e3e16cd6"
   }
  }
 },
 "nbformat": 4,
 "nbformat_minor": 5
}
