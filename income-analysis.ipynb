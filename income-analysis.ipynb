{
 "cells": [
  {
   "cell_type": "markdown",
   "id": "b1e60a3e",
   "metadata": {},
   "source": [
    "# INFO 2950 Phase II"
   ]
  },
  {
   "cell_type": "markdown",
   "id": "bcf0b554",
   "metadata": {},
   "source": [
    "## Research Questions"
   ]
  },
  {
   "cell_type": "markdown",
   "id": "7f336ee1-2290-42ad-b87b-5864cd6a427a",
   "metadata": {},
   "source": [
    "We aim to investigate the question(s):\n",
    "* **[INSERT RESEARCH QUESTIONS HERE]**"
   ]
  },
  {
   "cell_type": "markdown",
   "id": "59a825f8",
   "metadata": {},
   "source": [
    "## Data Description\n",
    "\n",
    "What are the observations (rows) and the attributes (columns)?\n",
    "Why was this dataset created?\n",
    "Who funded the creation of the dataset?\n",
    "What processes might have influenced what data was observed and recorded and what was not?\n",
    "What preprocessing was done, and how did the data come to be in the form that you are using?\n",
    "If people are involved, were they aware of the data collection and if so, what purpose did they expect the data to be used for?\n",
    "Where can your raw source data be found, if applicable? Provide a link to the raw data.\n",
    "\n",
    "Notes:\n",
    "* excellent note"
   ]
  },
  {
   "cell_type": "markdown",
   "id": "24e38c11-1bbb-490f-a3f2-45870ea530fb",
   "metadata": {},
   "source": [
    "## Imports"
   ]
  },
  {
   "cell_type": "code",
   "execution_count": null,
   "id": "efa31761-7697-4025-9f77-e114832d8086",
   "metadata": {},
   "outputs": [],
   "source": [
    "import numpy as np\n",
    "import pandas as pd\n",
    "import matplotlib.pyplot as plt\n",
    "# import seaborn as sns"
   ]
  },
  {
   "cell_type": "markdown",
   "id": "e596b602",
   "metadata": {},
   "source": [
    "## Data Cleaning"
   ]
  },
  {
   "cell_type": "code",
   "execution_count": 2,
   "id": "f0fbb0e4",
   "metadata": {},
   "outputs": [],
   "source": [
    "# data cleaning code here"
   ]
  },
  {
   "cell_type": "markdown",
   "id": "06cd26ca",
   "metadata": {},
   "source": [
    "## Data Analysis"
   ]
  },
  {
   "cell_type": "code",
   "execution_count": 1,
   "id": "dd14789b-bd27-4a5c-9e38-5a2c98f2b04d",
   "metadata": {},
   "outputs": [],
   "source": [
    "# data analysis code here"
   ]
  },
  {
   "cell_type": "markdown",
   "id": "c122d873",
   "metadata": {},
   "source": [
    "## Data Limitations"
   ]
  },
  {
   "cell_type": "markdown",
   "id": "7dad2882-a5d4-48e2-bd23-455db25bf3df",
   "metadata": {},
   "source": [
    "* Limitation 1"
   ]
  },
  {
   "cell_type": "markdown",
   "id": "dc2ae8a6",
   "metadata": {},
   "source": [
    "## Questions for Reviewers"
   ]
  },
  {
   "cell_type": "markdown",
   "id": "9cfdfa90-83b8-4611-b0bf-0f7bc13d3f4a",
   "metadata": {},
   "source": [
    "* Good question #1\n",
    "* Good question #2"
   ]
  },
  {
   "cell_type": "markdown",
   "id": "83d743f5-446a-4006-9c87-d1448bf2a701",
   "metadata": {},
   "source": [
    "## Resources"
   ]
  },
  {
   "cell_type": "markdown",
   "id": "af836ef2-c440-41d1-8cd9-3ee9e4639d74",
   "metadata": {},
   "source": [
    "Dataset: [US Census Poverty Dataset](https://data.census.gov/table/ACSST1Y2023.S1701)"
   ]
  }
 ],
 "metadata": {
  "kernelspec": {
   "display_name": "Python 3 (ipykernel)",
   "language": "python",
   "name": "python3"
  },
  "language_info": {
   "codemirror_mode": {
    "name": "ipython",
    "version": 3
   },
   "file_extension": ".py",
   "mimetype": "text/x-python",
   "name": "python",
   "nbconvert_exporter": "python",
   "pygments_lexer": "ipython3",
   "version": "3.12.3"
  }
 },
 "nbformat": 4,
 "nbformat_minor": 5
}
