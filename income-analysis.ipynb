{
 "cells": [
  {
   "cell_type": "markdown",
   "id": "b1e60a3e",
   "metadata": {},
   "source": [
    "# INFO 2950 Phase II"
   ]
  },
  {
   "cell_type": "markdown",
   "id": "bcf0b554",
   "metadata": {},
   "source": [
    "## Research Questions"
   ]
  },
  {
   "cell_type": "markdown",
   "id": "7f336ee1-2290-42ad-b87b-5864cd6a427a",
   "metadata": {},
   "source": [
    "How does government expenditure on education impact long-term economic growth and unemployment in developing versus developed countries?\n",
    "\n",
    "How have unemployment rates changed over time in low-income countries?\n",
    "\n",
    "What are the trends in GDP growth across different countries, and how have they fluctuated in response to global economic events?"
   ]
  },
  {
   "cell_type": "markdown",
   "id": "59a825f8",
   "metadata": {},
   "source": [
    "## Introduction\n",
    "\n",
    "This EDA uses data from the World Bank Group to explore economic trends across different countries from 1965 to 2023. The dataset includes key factors such as unemployment rates, GDP growth, and government expenditure on education. The goal of this analysis is to discover patterns and relationships that emphasize economic performance in the world.\n",
    "\n",
    "In this EDA, our goal is to identify key patterns and trends related to global economic inequality and development. The analysis will show which countries have reduced unemployment and increased GDP growth, as well as if investments in education correspond to these outcomes.\n",
    "\n",
    "\n",
    "## Data Description\n",
    "\n",
    "**What are the observations (rows) and the attributes (columns)?**\n",
    "\n",
    "Observations (Rows): Each row in the dataset corresponds to a country and a specific economic indicator (e.g., GDP growth, government expenditure on education, or unemployment) for mulitple years(1965-2023). The rows are structured with country-level data, showing trends and changes in economic indicators over time.\n",
    "\n",
    "Attributes (Columns):\n",
    "Country Name: The name of the country.\n",
    "Country Code: A unique identifier for each country (ISO or similar).\n",
    "Series Name: The economic indicator (e.g., GDP growth, unemployment, government expenditure on education).\n",
    "Year Columns: Yearly data points from 1965 to 2023, where each column represents the recorded value of the economic indicator for that specific year.\n",
    "\n",
    "**Why was this dataset created?**\n",
    "\n",
    "The dataset was created to track economic performance and trends in different countries over time. The data helps governments, policymakers, economists, and international organizations understand key economic metrics such as GDP growth, government expenditure on education, and unemployment rates, which can guide economic development strategies and interventions in different regions of the world. \n",
    "\n",
    "**Who funded the creation of the dataset?**\n",
    "\n",
    "The dataset was funded and crafted by The World Bank, a global financial institution that supports development efforts in countries world-wide. Its mission is to reduce poverty and promote sustainable development so the World Bank regularly collects and publishes data on a wide range of economic indicators to aid in policy-making and development planning.\n",
    "\n",
    "**What processes might have influenced what data was observed and recorded and what was not?**\n",
    "\n",
    "Data availability and reliability: Some countries may not have consistent or complete data records due to political instability, inadequate infrastructure, or limited data collection capabilities. This can lead to missing or incomplete data for certain years.\n",
    "\n",
    "Selection of indicators: The choice of economic indicators included in the dataset (e.g., GDP growth, unemployment, government expenditure) reflects the focus areas of development agencies and governments. I believe these indicators chosen are deemed critical and essential for assessing economic health.\n",
    "\n",
    "Reporting standards: Differences in national reporting standards and data collection methods could lead to variations in data quality and coverage.\n",
    "\n",
    "Bias in data recording: Some data points may reflect self-reported figures from governments, which could be subject to political influence or reporting biases, particularly in countries where transparency or accurate reporting is less enforced.\n",
    "\n",
    "**What preprocessing was done, and how did the data come to be in the form that you are using?**\n",
    "\n",
    "The original data consisted of four datasets grouped by income level (low_income, lower_middle, upper_middle, high_income) to distinguish between developing and developed countries. Preprocessing was done to standardize economic indicators and ensure consistency across countries and years.\n",
    "\n",
    "First, only the relevant economic indicators—GDP growth, government expenditure on education, and unemployment—were retained. Rows missing essential information like Country Name, Country Code, or Series Name were removed. Year columns from 1960 to 1964 were excluded due to data quality issue, and non-numeric values like \"..\" were replaced with NaN.\n",
    "\n",
    "To handle missing values,linear interpolation was used to estimate missing data based on adjacent trends. Remaining NaN rows were dropped as there was too many missing data for linear interpolation to work well, and a new column, country_type, was added to label each country based on its income group. Finally, all datasets were merged into a single dataset for analysis.\n",
    "\n",
    "**If people are involved, were they aware of the data collection and if so, what purpose did they expect the data to be used for?**\n",
    "\n",
    "Data collection for this type of dataset is typically done through government reporting mechanisms and international data collection efforts, not directly involving individuals. Governments or institutions contributing data likely understood that the information would be used for development assessments, economic planning, and research purposes. However, the individuals whose economic data are aggregated (e.g., unemployment figures) may not be aware of the specific data collection.\n",
    "\n",
    "\n",
    "**Where can your raw source data be found, if applicable? Provide a link to the raw data.**\n",
    "\n",
    "https://databank.worldbank.org/source/world-development-indicators#\n"
   ]
  },
  {
   "cell_type": "markdown",
   "id": "24e38c11-1bbb-490f-a3f2-45870ea530fb",
   "metadata": {},
   "source": [
    "## Imports"
   ]
  },
  {
   "cell_type": "code",
   "execution_count": 1,
   "id": "efa31761-7697-4025-9f77-e114832d8086",
   "metadata": {},
   "outputs": [],
   "source": [
    "import numpy as np\n",
    "import pandas as pd\n",
    "import matplotlib.pyplot as plt\n",
    "import seaborn as sns"
   ]
  },
  {
   "cell_type": "markdown",
   "id": "e596b602",
   "metadata": {},
   "source": [
    "## Data Cleaning and Preprocessing"
   ]
  },
  {
   "cell_type": "code",
   "execution_count": 2,
   "id": "f0fbb0e4",
   "metadata": {},
      "(623, 64)\n"
     ]
       "        vertical-align: middle;\n",
       "    }\n",
       "    }\n",
       "</style>\n",
       "      <th>Series Code</th>\n",
       "      <th>1965 [YR1965]</th>\n",
   "outputs": [],
   "source": [
    "\n",
    "def clean_dataset(data, country_type_label):\n",
    "    #variables we are interested in\n",
    "    indicators = [\n",
    "        'GDP growth (annual %)',\n",
    "        'Government expenditure on education, total (% of GDP)',\n",
    "        'Unemployment, total (% of total labor force) (modeled ILO estimate)'\n",
    "    ]\n",
    "    cleaned_data = data[data['Series Name'].isin(indicators)]\n",
    "    cleaned_data = cleaned_data.dropna(subset=['Country Name', 'Country Code', 'Series Name'])\n",
    "    #has too many missing values to be useful\n",
    "    columns_to_drop = ['1960 [YR1960]', '1961 [YR1961]', '1962 [YR1962]', '1963 [YR1963]', '1964 [YR1964]']\n",
    "    cleaned_data = cleaned_data.drop(columns=columns_to_drop, errors='ignore')\n",
    "    year_columns = [col for col in cleaned_data.columns if col.split()[0].isdigit()]\n",
    "    cleaned_data[year_columns] = cleaned_data[year_columns].replace(\"..\", pd.NA).apply(pd.to_numeric, errors='coerce')\n",
    "    #linear interpolation to fill in NA\n",
    "    cleaned_data[year_columns] = cleaned_data[year_columns].interpolate(method='linear', axis=0)\n",
    "    cleaned_data = cleaned_data.dropna()\n",
    "    cleaned_data['country_type'] = country_type_label\n",
    "    return cleaned_data\n",
    "    \n",
    "file_paths = [\n",
    "    '94086144-6ad8-4b75-ac26-1b60a764018a_Data.csv',  \n",
    "    '3fd493b6-dfe0-4afd-b296-1b5892e64ba8_Data.csv',  \n",
    "    '579772b1-602f-4cf6-ac0b-1bb1289918f8_Data.csv',  \n",
    "    '5026bb4a-f8ac-4ee9-860c-f83d47a7aded_Data.csv' \n",
    "]\n",
    "\n",
    "country_types = ['low_income', 'lower_middle', 'upper_middle', 'high_income']\n",
    "\n",
    "cleaned_datasets = []\n",
    "\n",
    "for file_path, country_type in zip(file_paths, country_types):\n",
    "    data = pd.read_csv(file_path)\n",
    "    cleaned_data = clean_dataset(data, country_type)\n",
    "    cleaned_datasets.append(cleaned_data)\n",
    "\n",
    "merged_data = pd.concat(cleaned_datasets, ignore_index=True)\n",
    "merged_file_path = 'final_cleaned_data.csv'\n",
    "#merged_data.to_csv(merged_file_path, index=False)\n",
    "\n",
    "print(merged_data.shape)\n",
    "merged_data.head()\n"
   ]
  },
  {
   "cell_type": "markdown",
   "id": "61b12c70",
   "metadata": {},
   "source": [
    "The data cleaning process involved multiple structured steps to ensure consistency, completeness, and proper formatting of the data for analysis. First, the datasets were filtered to include only relevant economic indicators: GDP growth (annual %), Government expenditure on education (total % of GDP), and Unemployment (total % of labor force, modeled ILO estimate). Any rows missing essential identifying information, such as Country Name, Country Code, or Series Name, were removed to maintain data integrity.\n",
    "\n",
    "Next, columns for the years 1960 to 1964 were removed as these years has too many missing values for it to be useful. The year columns were then converted to numeric values, replacing non-numeric placeholders like \"..\" with NaN, allowing for proper numeric operations.\n",
    "\n",
    "Following this, linear interpolation was used to estimate missing values based on the trends of adjacent data points. After this, any remaining rows with NaN values were dropped to ensure a clean dataset.Finally, a new column, country_type, was added to each dataset, labeling countries based on the file they came from (e.g., low_income, lower_middle, upper_middle, and high_income). After cleaning each individual dataset, the datasets were concatenated into a single merged dataset"
   ]
  },
  {
   "cell_type": "markdown",
   "id": "06cd26ca",
   "metadata": {},
   "source": [
    "## Data Analysis"
   ]
  },
  {
   "cell_type": "markdown",
   "id": "b05a1411-e92f-49a2-a0e0-67425a8326ae",
   "metadata": {},
   "source": [
    "We built a summary table to show statistics for each of our variables of interest, GDP growth, government expenditure, and unemployment. This gives us an idea of how many points we have in the dataset, and some of the extremes and summary statistics for each of our variables. The maxes for each variable are particularly interesting because it shows us that we have poential outliers to account for in the future (e.g. max unemployment percent of $82\\%$)."
   ]
  },
  {
   "cell_type": "code",
   "execution_count": null,
   "id": "0d36f36d-6ecb-4c6b-8533-91b1f9918b65",
   "metadata": {},
   "outputs": [],
   "source": [
    "data=  pd.read_csv('final_cleaned_data.csv')\n",
    "\n",
    "key_metrics = ['Unemployment, total (% of total labor force) (modeled ILO estimate)',\n",
    "               'GDP growth (annual %)',\n",
    "               'Government expenditure on education, total (% of GDP)']\n",
    "\n",
    "years_columns = [f\"{year} [YR{year}]\" for year in range(1965, 2024)]\n",
    "time_data_full = data[data['Series Name'].isin(key_metrics)].melt(id_vars=['Country Name', 'country_type', 'Series Name'],\n",
    "                                                                  value_vars=years_columns, var_name='Year', value_name='Value')\n",
    "\n",
    "summary_data = time_data_full[time_data_full['Series Name'].isin([\n",
    "    \"Unemployment, total (% of total labor force) (modeled ILO estimate)\",\n",
    "    \"GDP growth (annual %)\",\n",
    "    \"Government expenditure on education, total (% of GDP)\"\n",
    "])]\n",
    "summary_data_pivot = summary_data.pivot_table(index=['Country Name', 'Year', 'country_type'], \n",
    "                                              columns='Series Name', values='Value').dropna()\n",
    "summary_statistics = summary_data_pivot.describe()\n",
    "summary_statistics"
   ]
  },
  {
   "cell_type": "markdown",
   "id": "9fc63248-acc0-4fd9-8aa9-dc008bb3bdd5",
   "metadata": {},
   "source": [
    "Because we are interested in the trends for each income group, we made some lineplots showing how GDP Growth, government expendiure, and unemployment change over time. Making these charts allows us to see commonalities between variables in various time periods. We can compare the trends of the lines between plots for different variables to see which ones have similar trends over time."
   ]
  },
  {
   "cell_type": "code",
   "execution_count": null,
   "id": "dd14789b-bd27-4a5c-9e38-5a2c98f2b04d",
   "metadata": {},
   "outputs": [],
   "source": [
    "#GDP Growth (Annual %) Trend Analysis Over Time (1965-2023)\n",
    "\n",
    "key_metrics = ['Unemployment, total (% of total labor force) (modeled ILO estimate)',\n",
    "               'GDP growth (annual %)',\n",
    "               'Government expenditure on education, total (% of GDP)']\n",
    "\n",
    "years_columns = [f\"{year} [YR{year}]\" for year in range(1965, 2024)]\n",
    "time_data_full = data[data['Series Name'].isin(key_metrics)].melt(id_vars=['Country Name', 'country_type', 'Series Name'],\n",
    "                                                                  value_vars=years_columns, var_name='Year', value_name='Value')\n",
    "\n",
    "gdp_data = time_data_full[time_data_full['Series Name'] == \"GDP growth (annual %)\"]\n",
    "plt.figure(figsize=(18, 8))\n",
    "sns.lineplot(data=gdp_data, x=\"Year\", y=\"Value\", hue=\"country_type\", markers=True, dashes=False, errorbar = None)\n",
    "plt.title(\"GDP Growth (Annual %) Trend Analysis Over Time (1965-2023)\")\n",
    "plt.ylabel(\"GDP Growth (%)\")\n",
    "plt.xlabel(\"Year\")\n",
    "plt.xticks(rotation =60)\n",
    "plt.legend(title='Country Type')\n",
    "plt.grid(True)\n",
    "plt.show()"
   ]
  },
  {
   "cell_type": "markdown",
   "id": "95f1ef28-5db7-4ec9-86e2-85611fe483b5",
   "metadata": {},
   "source": [
    "The chart shows that while all countries experience cyclical economic growth, low-income countries are more vulnerable to economic instability and take longer to recover from economic downturns. In contrast, high-income and upper-middle-income countries tend to have more stable growth patterns, with faster recovery times from global emergencies.\n"
   ]
  },
  {
   "cell_type": "code",
   "execution_count": null,
   "id": "505de211-ddb0-4ea2-9209-5022b396a148",
   "metadata": {},
   "outputs": [],
   "source": [
    "education_data_full = time_data_full[time_data_full['Series Name'] == \"Unemployment, total (% of total labor force) (modeled ILO estimate)\"]\n",
    "plt.figure(figsize=(18, 8))\n",
    "sns.lineplot(data=education_data_full, x=\"Year\", y=\"Value\", hue=\"country_type\", markers=True, dashes=False, errorbar = None)\n",
    "plt.title(\"Unemployment, total (% of total labor force) (modeled ILO estimate) Trend Analysis Over Time (1965-2023)\")\n",
    "plt.ylabel(\"Unemployment, total (% of total labor force) (modeled ILO estimate)\")\n",
    "plt.xlabel(\"Year\")\n",
    "plt.xticks(rotation = 60)\n",
    "plt.legend(title='Country Type')\n",
    "plt.grid(True)\n",
    "plt.show()"
   ]
  },
  {
   "cell_type": "markdown",
   "id": "cdebe62f-3633-43d2-9933-60965804fc48",
   "metadata": {},
   "source": [
    "This chart shows differences in how unemployment rates are across country income levels; upper-middle-income countries show continuous issues in the labor market. High-income countries recover more quickly after global recessions, while low-income countries exhibit more stability in unemployment rates, although it is possible that this could be due to data limitations or a high level of informal employment. The data also highlights the global impact of events like the 1980s recession, the 2008 financial crisis, and the 2020 pandemic.\n"
   ]
  },
  {
   "cell_type": "code",
   "execution_count": null,
   "id": "9c8cad8a-babc-445c-aef1-668748a6c808",
   "metadata": {},
   "outputs": [],
   "source": [
    "\n",
    "education_data_full = time_data_full[time_data_full['Series Name'] == \"Government expenditure on education, total (% of GDP)\"]\n",
    "\n",
    "plt.figure(figsize=(18, 8))\n",
    "sns.lineplot(data=education_data_full, x=\"Year\", y=\"Value\", hue=\"country_type\", markers=True, dashes=False, errorbar = None)\n",
    "plt.title(\"Government Expenditure on Education (% of GDP) Trend Analysis Over Time (1965-2023)\")\n",
    "plt.ylabel(\"Government Expenditure (% of GDP)\")\n",
    "plt.xlabel(\"Year\")\n",
    "plt.xticks(rotation = 60)\n",
    "plt.legend(title='Country Type')\n",
    "plt.grid(True)\n",
    "plt.show()"
   ]
  },
  {
   "cell_type": "markdown",
   "id": "13e16c54-2464-4013-a3a4-9bdda80ab66c",
   "metadata": {},
   "source": [
    "We also want to observe the correlation between variables to examine which variables may have a relationship. From the correlation heat map below, we observe that GDP growth and government expenditure and government expenditure and unemployment have higher than 0.7 correlation coefficients, suggesting that they effect each other in a real life for the areas in our dataset."
   ]
  },
  {
   "cell_type": "code",
   "execution_count": null,
   "id": "16f235b3-5195-480e-b4b0-5ccb9ded9992",
   "metadata": {},
   "outputs": [],
   "source": [
    "corr_data = time_data_full[time_data_full['Series Name'].isin([\n",
    "    \"Unemployment, total (% of total labor force) (modeled ILO estimate)\",\n",
    "    \"GDP growth (annual %)\",\n",
    "    \"Government expenditure on education, total (% of GDP)\"\n",
    "])]\n",
    "corr_data_pivot = corr_data.pivot_table(index=['Country Name', 'Year', 'country_type'], columns='Series Name', values='Value')\n",
    "correlation_matrix = corr_data_pivot.corr()\n",
    "plt.figure(figsize=(10, 6))\n",
    "sns.heatmap(correlation_matrix, annot=True, cmap=\"coolwarm\", linewidths=0.5)\n",
    "plt.title(\"Correlation Heatmap Between Key Economic Indicators\")\n",
    "plt.show()\n"
   ]
  },
  {
   "cell_type": "markdown",
   "id": "2942cb21-2550-4572-8870-677a01aca356",
   "metadata": {},
   "source": [
    "This heatmap reveals the relationships between economic growth, education investment, and labor market outcomes. While education spending correlates positively with both GDP growth and unemployment, the long-term benefits of the investments mae take more time to materialize, specifically in improving labor market conditions. Countries experiencing fast GDP growth may also face a temporary increase in unemployment becuase of shifts in labor demand, especially during periods of economic change or technological advancement."
   ]
  },
  {
   "cell_type": "markdown",
   "id": "c122d873",
   "metadata": {},
   "source": [
    "## Data Limitations"
   ]
  },
  {
   "cell_type": "markdown",
   "id": "7dad2882-a5d4-48e2-bd23-455db25bf3df",
   "metadata": {},
   "source": [
    "-**Missing Data**: Some countries have incomplete data for certain years due to gaps in reporting, which may result in missing or estimated values that do not fully reflect actual conditions.\n",
    "\n",
    "-**Bias in Self-Reporting**: Data from governments may be subject to reporting biases, especially in politically sensitive areas such as unemployment or economic growth.\n",
    "\n",
    "-**Limited Detail**: The dataset contains national-level data, which may overlook regional disparities within countries.\n",
    "\n",
    "-**Interpolation**: Filling in missing data using interpolation may introduce trends that do not accurately reflect economic realities."
   ]
  },
  {
   "cell_type": "markdown",
   "id": "dc2ae8a6",
   "metadata": {},
   "source": [
    "## Questions for Reviewers"
   ]
  },
  {
   "cell_type": "markdown",
   "id": "9cfdfa90-83b8-4611-b0bf-0f7bc13d3f4a",
   "metadata": {},
   "source": [
    "* Do the charts clearly represent the trends in income inequality and poverty across the different groups?\n",
    "* Are there any key variables or relationships that need further exploration/analysis to answer the research question?"
   ]
  },
  {
   "cell_type": "markdown",
   "id": "83d743f5-446a-4006-9c87-d1448bf2a701",
   "metadata": {},
   "source": [
    "## Resources"
   ]
  },
  {
   "cell_type": "markdown",
   "id": "af836ef2-c440-41d1-8cd9-3ee9e4639d74",
   "metadata": {},
   "source": [
    "Dataset: https://databank.worldbank.org/source/world-development-indicators#\n",
    "Data Manipulation Technique: https://www.geeksforgeeks.org/interpolation-in-python/"
   ]
  },
  {
   "cell_type": "code",
   "execution_count": null,
   "id": "3591b2a0-8938-47fd-8a1c-799e42ec21c7",
   "metadata": {},
   "outputs": [],
   "source": []
  }
 ],
 "metadata": {
  "kernelspec": {
   "display_name": "Python 3 (ipykernel)",
   "language": "python",
   "name": "python3"
  },
  "language_info": {
   "codemirror_mode": {
    "name": "ipython",
    "version": 3
   },
   "file_extension": ".py",
   "mimetype": "text/x-python",
   "name": "python",
   "nbconvert_exporter": "python",
   "pygments_lexer": "ipython3",
   "version": "3.12.4"
  },
  "vscode": {
   "interpreter": {
    "hash": "31f2aee4e71d21fbe5cf8b01ff0e069b9275f58929596ceb00d14d90e3e16cd6"
   }
  }
 },
 "nbformat": 4,
 "nbformat_minor": 5
}
