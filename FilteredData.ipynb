{
 "cells": [
  {
   "cell_type": "code",
   "execution_count": 9,
   "id": "20f94ffd-ae8b-46ab-8eb0-fc65ff8288ef",
   "metadata": {},
   "outputs": [
    {
     "name": "stdout",
     "output_type": "stream",
     "text": [
      "Original data shape: (26, 377)\n",
      "Filtered data shape: (26, 9)\n"
     ]
    }
   ],
   "source": [
    "import pandas as pd\n",
    "\n",
    "# Setting the base path for file location\n",
    "base_path = './productDownload_2024-10-13T131929/'\n",
    "\n",
    "# Load datasets for each year into pandas DataFrames using the correct path\n",
    "data_2010 = pd.read_csv(base_path + 'ACSST1Y2010.S1701-Data.csv')\n",
    "data_2011 = pd.read_csv(base_path + 'ACSST1Y2011.S1701-Data.csv')\n",
    "data_2012 = pd.read_csv(base_path + 'ACSST1Y2012.S1701-Data.csv')\n",
    "data_2013 = pd.read_csv(base_path + 'ACSST1Y2013.S1701-Data.csv')\n",
    "data_2014 = pd.read_csv(base_path + 'ACSST1Y2014.S1701-Data.csv')\n",
    "data_2015 = pd.read_csv(base_path + 'ACSST1Y2015.S1701-Data.csv')\n",
    "data_2016 = pd.read_csv(base_path + 'ACSST1Y2016.S1701-Data.csv')\n",
    "data_2017 = pd.read_csv(base_path + 'ACSST1Y2017.S1701-Data.csv')\n",
    "data_2018 = pd.read_csv(base_path + 'ACSST1Y2018.S1701-Data.csv')\n",
    "data_2019 = pd.read_csv(base_path + 'ACSST1Y2019.S1701-Data.csv')\n",
    "data_2021 = pd.read_csv(base_path + 'ACSST1Y2021.S1701-Data.csv')\n",
    "data_2022 = pd.read_csv(base_path + 'ACSST1Y2022.S1701-Data.csv')\n",
    "data_2023 = pd.read_csv(base_path + 'ACSST1Y2023.S1701-Data.csv')\n",
    "\n",
    "# Combine all the datasets into one DataFrame\n",
    "all_data = pd.concat([data_2010, data_2011, data_2012, data_2013, data_2014, data_2015, \n",
    "data_2016, data_2017, data_2018, data_2019, data_2021, data_2022, data_2023], \n",
    "ignore_index=True)\n",
    "\n",
    "# Select the relevant columns for your research questions (update this if needed)\n",
    "relevant_columns = ['S1701_C02_001E',  # Below Poverty Level (Estimate)\n",
    "'S1701_C01_005E',  # Gender (Male Estimate)\n",
    "'S1701_C01_007E',  # Gender (Female Estimate)\n",
    "'S1701_C01_008E',  # Race and Hispanic or Latino Origin (Total Estimate)\n",
    "'S1701_C01_004E',  # Age 18 to 64 years\n",
    "'S1701_C01_002E',  # Age Under 18 years\n",
    "'S1701_C01_006E',  # Educational Attainment (Total Estimate)\n",
    "'S1701_C01_009E',  # Detailed Race and Hispanic/Latino estimate\n",
    "'S1701_C01_010E'   # Detailed Race and Hispanic/Latino estimate continuation\n",
    "]\n",
    "\n",
    "# Filter the dataset to only keep the relevant columns\n",
    "filtered_data = all_data[relevant_columns]\n",
    "\n",
    "# Save the filtered data into a new CSV file\n",
    "filtered_data.to_csv(base_path + 'filtered_ACS_data.csv', index=False)\n",
    "\n",
    "# Display the shape of the original and filtered data\n",
    "print(\"Original data shape:\", all_data.shape)\n",
    "print(\"Filtered data shape:\", filtered_data.shape)\n"
   ]
  }
 ],
 "metadata": {
  "kernelspec": {
   "display_name": "Python 3 (ipykernel)",
   "language": "python",
   "name": "python3"
  },
  "language_info": {
   "codemirror_mode": {
    "name": "ipython",
    "version": 3
   },
   "file_extension": ".py",
   "mimetype": "text/x-python",
   "name": "python",
   "nbconvert_exporter": "python",
   "pygments_lexer": "ipython3",
   "version": "3.12.4"
  }
 },
 "nbformat": 4,
 "nbformat_minor": 5
}
