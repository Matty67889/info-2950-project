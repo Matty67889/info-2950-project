{
 "cells": [
  {
   "cell_type": "markdown",
   "id": "b1e60a3e",
   "metadata": {},
   "source": [
    "# INFO 2950 Phase II"
   ]
  },
  {
   "cell_type": "markdown",
   "id": "9d863cd9-a556-49f2-8935-7dc5ba44b4e8",
   "metadata": {},
   "source": [
    "Team: \n",
    "Carter Zhu (yz553)\n",
    "Jase Rivera (jcr297)\n",
    "Matthew Mentis-Cort (mam692)\n"
   ]
  },
  {
   "cell_type": "markdown",
   "id": "092cdcd8",
   "metadata": {},
   "source": [
    "## *Table of Contents*"
   ]
  },
  {
   "cell_type": "markdown",
   "id": "bcf0b554",
   "metadata": {},
   "source": [
    "## Research Questions"
   ]
  },
  {
   "cell_type": "markdown",
   "id": "7f336ee1-2290-42ad-b87b-5864cd6a427a",
   "metadata": {},
   "source": [
    "How does government expenditure on education influence long-term changes in GDP growth rates (as a measure of economic growth) and unemployment rates in developing (low-income and lower-middle-income) versus developed (upper-middle-income and high-income) countries?"
   ]
  },
  {
   "cell_type": "markdown",
   "id": "59a825f8",
   "metadata": {},
   "source": [
    "## Introduction\n",
    "\n",
    "This EDA uses data from the World Bank Group to explore economic trends across different countries from 1965 to 2023. The dataset includes key factors such as unemployment rates, GDP growth, and government expenditure on education. The goal of this analysis is to discover patterns and relationships that emphasize economic performance in the world.\n",
    "\n",
    "In this EDA, our goal is to identify key patterns and trends related to global economic inequality and development. The analysis will show which countries have reduced unemployment and increased GDP growth, as well as if investments in education correspond to these outcomes.\n",
    "\n",
    "\n",
    "## Data Description\n",
    "\n",
    "**What are the observations (rows) and the attributes (columns)?**\n",
    "\n",
    "Observations (Rows): Each row in the dataset corresponds to a country and a specific economic indicator (e.g., GDP growth, government expenditure on education, or unemployment) for mulitple years(1965-2023). The rows are structured with country-level data, showing trends and changes in economic indicators over time.\n",
    "\n",
    "Attributes (Columns):\n",
    "Country Name: The name of the country.\n",
    "Country Code: A unique identifier for each country (ISO or similar).\n",
    "Series Name: The economic indicator (e.g., GDP growth, unemployment, government expenditure on education).\n",
    "Year Columns: Yearly data points from 1965 to 2023, where each column represents the recorded value of the economic indicator for that specific year.\n",
    "\n",
    "**Why was this dataset created?**\n",
    "\n",
    "The dataset was created to track economic performance and trends in different countries over time. The data helps governments, policymakers, economists, and international organizations understand key economic metrics such as GDP growth, government expenditure on education, and unemployment rates, which can guide economic development strategies and interventions in different regions of the world. \n",
    "\n",
    "**Who funded the creation of the dataset?**\n",
    "\n",
    "The dataset was funded and crafted by The World Bank, a global financial institution that supports development efforts in countries world-wide. Its mission is to reduce poverty and promote sustainable development so the World Bank regularly collects and publishes data on a wide range of economic indicators to aid in policy-making and development planning.\n",
    "\n",
    "**What processes might have influenced what data was observed and recorded and what was not?**\n",
    "\n",
    "Data availability and reliability: Some countries may not have consistent or complete data records due to political instability, inadequate infrastructure, or limited data collection capabilities. This can lead to missing or incomplete data for certain years.\n",
    "\n",
    "Selection of indicators: The choice of economic indicators included in the dataset (e.g., GDP growth, unemployment, government expenditure) reflects the focus areas of development agencies and governments. I believe these indicators chosen are deemed critical and essential for assessing economic health.\n",
    "\n",
    "Reporting standards: Differences in national reporting standards and data collection methods could lead to variations in data quality and coverage.\n",
    "\n",
    "Bias in data recording: Some data points may reflect self-reported figures from governments, which could be subject to political influence or reporting biases, particularly in countries where transparency or accurate reporting is less enforced.\n",
    "\n",
    "**What preprocessing was done, and how did the data come to be in the form that you are using?**\n",
    "\n",
    "The original data consisted of four datasets grouped by income level of the countries(low_income, lower_middle, upper_middle, high_income) to distinguish between developing and developed countries. Preprocessing was done to standardize economic indicators and ensure consistency across countries and years.\n",
    "\n",
    "First, only the relevant economic indicators—GDP growth, government expenditure on education, and unemployment—were retained. Rows missing essential information like Country Name, Country Code, or Series Name were removed. Year columns from 1960 to 1964 were excluded due to data quality issue, and non-numeric values like \"..\" were replaced with NaN.\n",
    "\n",
    "To handle missing values,linear interpolation was used to estimate missing data based on adjacent trends. Remaining NaN rows were dropped as there was too many missing data for linear interpolation to work well, and a new column, country_type, was added to label each country based on its income group. Finally, all datasets were merged into a single dataset for analysis.\n",
    "\n",
    "**If people are involved, were they aware of the data collection and if so, what purpose did they expect the data to be used for?**\n",
    "\n",
    "Data collection for this type of dataset is typically done through government reporting mechanisms and international data collection efforts, not directly involving individuals. Governments or institutions contributing data likely understood that the information would be used for development assessments, economic planning, and research purposes. However, the individuals whose economic data are aggregated (e.g., unemployment figures) may not be aware of the specific data collection.\n",
    "\n",
    "\n",
    "**Where can your raw source data be found, if applicable? Provide a link to the raw data.**\n",
    "\n",
    "The four original dataset that we merged along with the final_dataset is in the google drive. we have also uploaded it to github.\n",
    "\n",
    "https://drive.google.com/drive/folders/1Ka6LAx-YR8TA3QkG9799JndAbxd8Jlio?usp=sharing\n",
    "https://databank.worldbank.org/source/world-development-indicators#\n"
   ]
  },
  {
   "cell_type": "markdown",
   "id": "f7c028f8",
   "metadata": {},
   "source": [
    "## Preregistration Statement \n"
   ]
  },
  {
   "cell_type": "markdown",
   "id": "50cd8a88",
   "metadata": {},
   "source": [
    "Provide at least 2 preregistration statements. Each\n",
    "statement contains a hypothesis and a description of analysis to study the\n",
    "hypothesis. It should also include context for why you believe in your hypothesis\n",
    "\n",
    "by referencing domain knowledge or other literature. Refer to Phase 3 rubric for\n",
    "more details."
   ]
  },
  {
   "cell_type": "markdown",
   "id": "24e38c11-1bbb-490f-a3f2-45870ea530fb",
   "metadata": {},
   "source": [
    "## Imports"
   ]
  },
  {
   "cell_type": "code",
   "execution_count": null,
   "id": "efa31761-7697-4025-9f77-e114832d8086",
   "metadata": {},
   "outputs": [],
   "source": [
    "\n",
    "import numpy as np\n",
    "import pandas as pd\n",
    "import matplotlib.pyplot as plt\n",
    "import seaborn as sns"
   ]
  },
  {
   "cell_type": "markdown",
   "id": "e596b602",
   "metadata": {},
   "source": [
    "## Data Cleaning and Preprocessing"
   ]
  },
  {
   "cell_type": "markdown",
   "id": "61b12c70",
   "metadata": {},
   "source": [
    "The data cleaning process involved multiple structured steps to ensure consistency, completeness, and proper formatting of the data for analysis. To address the research question, \"How does government expenditure on education impact long-term economic growth and unemployment in developing versus developed countries?\", the dataset was filtered to focus on three key variables. GDP growth (annual %) was selected as it serves as a fundamental measure of economic growth, reflecting the annual percentage increase in a country's economic output and providing insight into the broader economic impact of government policies. Government expenditure on education (total % of GDP) was included as it directly measures a country's investment in education relative to its economic output, capturing the priority placed on educational funding. Unemployment (total % of labor force, modeled ILO estimate) was chosen to assess labor market outcomes, particularly the effectiveness of economic and educational policies in addressing employment challenges.\n",
    "\n",
    "Rows missing essential identifying information, such as Country Name, Country Code, or Series Name, were removed to maintain data integrity. Columns corresponding to the years 1960 to 1964 were excluded because they contained too many missing values to be useful. Non-numeric placeholders, such as .., were replaced with NaN to enable numeric operations, and the year columns were converted to a numeric format for consistency.\n",
    "\n",
    "Linear interpolation was applied to estimate missing values based on trends in adjacent data points. This method was chosen because it preserves the temporal continuity of the dataset, ensures smooth transitions between known values, and minimizes the bias that other methods, such as mean imputation, could introduce. After interpolation, any remaining rows with NaN values were dropped to create a fully complete dataset. To enable comparison across countries, a new column, country_type, was added, categorizing countries based on their income classification (e.g., low_income, lower_middle, upper_middle, and high_income). Finally, the individual datasets were merged into a single, unified dataset. This thorough process ensured that the dataset was prepared for meaningful analysis, addressing gaps and inconsistencies while maintaining the integrity of the trends across key variables.\n"
   ]
  },
  {
   "cell_type": "markdown",
   "id": "06cd26ca",
   "metadata": {},
   "source": [
    "## Data Analysis"
   ]
  },
  {
   "cell_type": "markdown",
   "id": "0beecfda",
   "metadata": {},
   "source": [
    "### A) Data Exploration and Visualization\n"
   ]
  },
  {
   "cell_type": "markdown",
   "id": "b05a1411-e92f-49a2-a0e0-67425a8326ae",
   "metadata": {},
   "source": [
    "We built a summary table to show statistics for each of our variables of interest, GDP growth, government expenditure, and unemployment. This gives us an idea of how many points we have in the dataset, and some of the extremes and summary statistics for each of our variables. The maxes for each variable are particularly interesting because it shows us that we have poential outliers to account for in the future (e.g. max unemployment percent of $82\\%$).\n",
    "\n",
    "The data shows significant variability in global economic indicators:\n",
    "\n",
    "GDP growth averages 3.88%, with large fluctuations (std: 6.74)\n",
    "Government expenditure on education averages 4.7% of GDP\n",
    "Unemployment rate averages 6.04%, with wide variability (std: 6.26)"
   ]
  },
  {
   "cell_type": "code",
   "execution_count": null,
   "id": "0d36f36d-6ecb-4c6b-8533-91b1f9918b65",
   "metadata": {},
   "outputs": [],
   "source": [
    "data=  pd.read_csv('final_cleaned_data.csv')\n",
    "\n",
    "#specific economic indicators \n",
    "key_metrics = ['Unemployment, total (% of total labor force) (modeled ILO estimate)',\n",
    "               'GDP growth (annual %)',\n",
    "               'Government expenditure on education, total (% of GDP)']\n",
    "\n",
    "#all the years we are analyzing \n",
    "years_columns = [f\"{year} [YR{year}]\" for year in range(1965, 2024)]\n",
    "\n",
    "\n",
    "#reshape data so year becomes rows instead of columns\n",
    "time_data_full = data[data['Series Name'].isin(key_metrics)].melt\\\n",
    "(id_vars=['Country Name', 'country_type', 'Series Name'], \\\n",
    "value_vars=years_columns, var_name='Year', value_name='Value')\n",
    "\n",
    "summary_data = time_data_full[time_data_full['Series Name'].isin([\n",
    "    \"Unemployment, total (% of total labor force) (modeled ILO estimate)\",\n",
    "    \"GDP growth (annual %)\",\n",
    "    \"Government expenditure on education, total (% of GDP)\"\n",
    "])]\n",
    "\n",
    "summary_data_pivot = summary_data.pivot_table(index=\\\n",
    "                ['Country Name', 'Year', 'country_type'], \\\n",
    "                                        \n",
    "                 columns='Series Name', values='Value').dropna()\n",
    "\n",
    "summary_statistics = summary_data_pivot.describe()\n",
    "#summary_data_pivot.head()\n",
    "summary_statistics"
   ]
  },
  {
   "cell_type": "markdown",
   "id": "9fc63248-acc0-4fd9-8aa9-dc008bb3bdd5",
   "metadata": {},
   "source": [
    "Because we are interested in the trends for each income group, we made some lineplots showing how GDP Growth, government expendiure, and unemployment change over time. Making these charts allows us to see commonalities between variables in various time periods. We can compare the trends of the lines between plots for different variables to see which ones have similar trends over time."
   ]
  },
  {
   "cell_type": "code",
   "execution_count": null,
   "id": "dd14789b-bd27-4a5c-9e38-5a2c98f2b04d",
   "metadata": {},
   "outputs": [],
   "source": [
    "#GDP Growth (Annual %) Trend Analysis Over Time (1965-2023)\n",
    "\n",
    "key_metrics = ['Unemployment, total (% of total labor force) (modeled ILO estimate)',\n",
    "               'GDP growth (annual %)',\n",
    "               'Government expenditure on education, total (% of GDP)']\n",
    "\n",
    "years_columns = [f\"{year} [YR{year}]\" for year in range(1965, 2024)]\n",
    "time_data_full = data[data['Series Name'].isin(key_metrics)].melt\\\n",
    "(id_vars=['Country Name', 'country_type', 'Series Name'],\\\n",
    " value_vars=years_columns, var_name='Year', value_name='Value')\n",
    "\n",
    "gdp_data = time_data_full[time_data_full['Series Name'] == \"GDP growth (annual %)\"]\n",
    "plt.figure(figsize=(18, 8))\n",
    "sns.lineplot(data=gdp_data, x=\"Year\", y=\"Value\", \\\n",
    "hue=\"country_type\", markers=True, dashes=False, errorbar = None)\n",
    "plt.title(\"GDP Growth (Annual %) Trend Analysis Over Time (1965-2023)\")\n",
    "plt.ylabel(\"GDP Growth (%)\")\n",
    "plt.xlabel(\"Year\")\n",
    "plt.xticks(rotation =60)\n",
    "plt.legend(title='Country Type')\n",
    "plt.grid(True)\n",
    "plt.show()"
   ]
  },
  {
   "cell_type": "markdown",
   "id": "95f1ef28-5db7-4ec9-86e2-85611fe483b5",
   "metadata": {},
   "source": [
    "The chart shows that while all countries experience cyclical economic growth, low-income countries are more vulnerable to economic instability and take longer to recover from economic downturns. In contrast, high-income and upper-middle-income countries tend to have more stable growth patterns, with faster recovery times from global emergencies. Major dips in 2008-2009 (financial crisis) and 2020 (COVID-19) affected all groups, but low-income nations were hit harder. Recently, there's a strong recovery across all country types, though the growth is not fully stabilized yet.\n"
   ]
  },
  {
   "cell_type": "code",
   "execution_count": null,
   "id": "505de211-ddb0-4ea2-9209-5022b396a148",
   "metadata": {},
   "outputs": [],
   "source": [
    "#Unemployment, total (% of total labor force) (modeled ILO estimate) Trend Analysis Over Time (1965-2023)\n",
    "\n",
    "education_data_full = time_data_full[time_data_full['Series Name'] \\\n",
    "== \"Unemployment, total (% of total labor force) (modeled ILO estimate)\"]\n",
    "plt.figure(figsize=(18, 8))\n",
    "sns.lineplot(data=education_data_full, x=\"Year\", y=\"Value\", \\\n",
    "hue=\"country_type\", markers=True, dashes=False, errorbar = None)\n",
    "plt.title(\"Unemployment, total (% of total labor force) \\\n",
    "(modeled ILO estimate) Trend Analysis Over Time (1965-2023)\")\n",
    "plt.ylabel(\"Unemployment, total (% of total labor force) (modeled ILO estimate)\")\n",
    "plt.xlabel(\"Year\")\n",
    "plt.xticks(rotation = 60)\n",
    "plt.legend(title='Country Type')\n",
    "plt.grid(True)\n",
    "plt.show()"
   ]
  },
  {
   "cell_type": "markdown",
   "id": "cdebe62f-3633-43d2-9933-60965804fc48",
   "metadata": {},
   "source": [
    "This chart shows differences in how unemployment rates are across country income levels; upper-middle-income countries show continuous issues in the labor market. High-income countries recover more quickly after global recessions, while low-income countries exhibit more stability in unemployment rates, although it is possible that this could be due to data limitations or a high level of informal employment. Furthermore, high-income countries consistently having the lowest unemployment, while upper-middle-income countries experienced a significant spike around the 1990s but have since improved. The data also highlights the global impact of events like the 1980s recession, the 2008 financial crisis, and the 2020 pandemic.\n"
   ]
  },
  {
   "cell_type": "code",
   "execution_count": null,
   "id": "9c8cad8a-babc-445c-aef1-668748a6c808",
   "metadata": {
    "scrolled": true
   },
   "outputs": [],
   "source": [
    "#Government Expenditure on Education (% of GDP) Trend Analysis Over Time (1965-2023)\n",
    "\n",
    "education_data_full = time_data_full[time_data_full['Series Name'] \\\n",
    "== \"Government expenditure on education, total (% of GDP)\"]\n",
    "plt.figure(figsize=(18, 8))\n",
    "sns.lineplot(data=education_data_full, x=\"Year\", y=\"Value\",\\\n",
    "hue=\"country_type\", markers=True, dashes=False, errorbar = None)\n",
    "plt.title(\"Government Expenditure on Education (% of GDP) \\\n",
    "Trend Analysis Over Time (1965-2023)\")\n",
    "plt.ylabel(\"Government Expenditure (% of GDP)\")\n",
    "plt.xlabel(\"Year\")\n",
    "plt.xticks(rotation = 60)\n",
    "plt.legend(title='Country Type')\n",
    "plt.grid(True)\n",
    "plt.show()"
   ]
  },
  {
   "cell_type": "markdown",
   "id": "df040825-5f2a-4f0c-bf6f-8b71bacb1b47",
   "metadata": {},
   "source": [
    "Upper-middle-income countries consistently spend the **most on education**, especially after the 1990s. High- and lower-middle-income countries have **stable spending** between **4-6%** of GDP. Low-income countries show **more volatility** with sharp drops in the 1990s but recovery afterward."
   ]
  },
  {
   "cell_type": "markdown",
   "id": "13e16c54-2464-4013-a3a4-9bdda80ab66c",
   "metadata": {},
   "source": [
    "We also want to observe the correlation between variables to examine which variables may have a relationship. From the correlation heat map below, we observe that GDP growth and government expenditure and government expenditure and unemployment have higher than 0.7 correlation coefficients, suggesting that they effect each other in a real life for the areas in our dataset."
   ]
  },
  {
   "cell_type": "code",
   "execution_count": null,
   "id": "16f235b3-5195-480e-b4b0-5ccb9ded9992",
   "metadata": {},
   "outputs": [],
   "source": [
    "#Correlation Heatmap Between Key Economic Indicators\n",
    "\n",
    "corr_data = time_data_full[time_data_full['Series Name'].isin([\n",
    "    \"Unemployment, total (% of total labor force) (modeled ILO estimate)\",\n",
    "    \"GDP growth (annual %)\",\n",
    "    \"Government expenditure on education, total (% of GDP)\"\n",
    "])]\n",
    "corr_data_pivot = corr_data.pivot_table(index=['Country Name',\\\n",
    "            'Year', 'country_type'], columns='Series Name', values='Value')\n",
    "correlation_matrix = corr_data_pivot.corr()\n",
    "plt.figure(figsize=(10, 6))\n",
    "sns.heatmap(correlation_matrix, annot=True, cmap=\"coolwarm\", linewidths=0.5)\n",
    "plt.title(\"Correlation Heatmap Between Key Economic Indicators\")\n",
    "plt.show()\n"
   ]
  },
  {
   "cell_type": "markdown",
   "id": "2942cb21-2550-4572-8870-677a01aca356",
   "metadata": {},
   "source": [
    "The heatmap shows strong positive correlations between GDP growth and education spending (0.75), and a strong negative correlation between education spending and unemployment (0.71). There’s also a moderate negative correlation between GDP growth and unemployment (0.41). This suggests a very interesting insight: higher education spending is linked to both higher growth and lower unemployment.\n",
    "\n",
    "It reveals the relationships between economic growth, education investment, and labor market outcomes. While education spending correlates positively with both GDP growth and unemployment, the long-term benefits of the investments mae take more time to materialize, specifically in improving labor market conditions. Countries experiencing fast GDP growth may also face a temporary increase in unemployment becuase of shifts in labor demand, especially during periods of economic change or technological advancement."
   ]
  },
  {
   "cell_type": "markdown",
   "id": "4eb4e7e1",
   "metadata": {},
   "source": [
    "### B) Models and Hypothesis Testing\n"
   ]
  },
  {
   "cell_type": "code",
   "execution_count": null,
   "id": "117fbf30",
   "metadata": {},
   "outputs": [],
   "source": [
    "# Reshape data to long format\n",
    "years_columns = [col for col in data.columns if col.startswith(\"20\") or col.startswith(\"196\") or col.startswith(\"197\") or col.startswith(\"198\")]\n",
    "data_long = data.melt(\n",
    "    id_vars=[\"Country Name\", \"country_type\", \"Series Name\"],\n",
    "    value_vars=years_columns,\n",
    "    var_name=\"Year\",\n",
    "    value_name=\"Value\"\n",
    ")\n",
    "\n",
    "# Convert Year and Value to numeric, and filter for years starting from 1965\n",
    "data_long[\"Year\"] = pd.to_numeric(data_long[\"Year\"].str.extract(r'(\\d+)', expand=False))\n",
    "data_long = data_long[data_long[\"Year\"] >= 1965]\n",
    "data_long[\"Value\"] = pd.to_numeric(data_long[\"Value\"], errors=\"coerce\")\n",
    "\n",
    "# GDP Growth Analysis\n",
    "gdp_data = data_long[data_long[\"Series Name\"] == \"GDP growth (annual %)\"]\n",
    "developing_countries = gdp_data[gdp_data[\"country_type\"].isin([\"Low\", \"Lower middle\"])]\n",
    "developed_countries = gdp_data[gdp_data[\"country_type\"].isin([\"Upper middle\", \"High\"])]\n",
    "\n",
    "def run_regression(df, dependent, independent):\n",
    "    X = sm.add_constant(df[independent].astype(float))\n",
    "    y = df[dependent].astype(float)\n",
    "    return sm.OLS(y, X).fit()\n",
    "\n",
    "if not developing_countries.empty:\n",
    "    developing_model = run_regression(developing_countries, \"Value\", \"Year\")\n",
    "    print(\"Developing Countries GDP Regression:\\n\", developing_model.summary())\n",
    "\n",
    "if not developed_countries.empty:\n",
    "    developed_model = run_regression(developed_countries, \"Value\", \"Year\")\n",
    "    print(\"\\nDeveloped Countries GDP Regression:\\n\", developed_model.summary())\n",
    "\n"
   ]
  },
  {
   "cell_type": "code",
   "execution_count": null,
   "id": "9140f144-aa90-4a42-bb55-ce99f3a1997e",
   "metadata": {},
   "outputs": [],
   "source": [
    "# Unemployment Analysis\n",
    "unemployment_data = data_long[data_long[\"Series Name\"] == \"Unemployment, total (% of total labor force) (modeled ILO estimate)\"].dropna()\n",
    "unemployment_data[\"country_type_encoded\"] = unemployment_data[\"country_type\"].map({\"Low\": 0, \"Lower middle\": 0, \"Upper middle\": 1, \"High\": 1})\n",
    "unemployment_data[\"interaction\"] = unemployment_data[\"country_type_encoded\"] * unemployment_data[\"Value\"]\n",
    "\n",
    "X = unemployment_data[[\"Value\", \"country_type_encoded\", \"interaction\"]].astype(float).replace([float('inf'), float('-inf')], pd.NA).dropna()\n",
    "y = unemployment_data[\"Value\"].astype(float).loc[X.index]\n",
    "X = sm.add_constant(X)\n",
    "\n",
    "# Visualisations\n",
    "sns.lineplot(data=gdp_data, x=\"Year\", y=\"Value\", hue=\"country_type\")\n",
    "plt.title(\"GDP Growth Trends by Country Type\")\n",
    "plt.show()\n",
    "\n",
    "sns.lineplot(data=unemployment_data, x=\"Year\", y=\"Value\", hue=\"country_type\")\n",
    "plt.title(\"Unemployment Trends by Country Type\")\n",
    "plt.show()"
   ]
  },
  {
   "cell_type": "markdown",
   "id": "a5785380-41dc-4b94-adf5-df32a4cb2cf8",
   "metadata": {},
   "source": [
    "## GDP Growth Trends \n",
    "The analysis of GDP growth trends involves compares countries of different socioeconomic status from 1965 to 2023. The results indicate that all country types experienced similar GDP growth patterns, largely influenced by significant global events, such as the 2008 financial crisis and the COVID-19 pandemic in 2020. A significant finding here is a spike in GDP growth in 2021, specifically for upper-middle-income countries, which likely reflects economic recovery after the pandemic. The regression analysis showed that high-income and upper-middle-income countries tend to recover quicker from economic downturns, whereas developing countries face more significant challenges in achieving similar stability. This suggests that the economic stability in high-income regions is better equipped to handle global crisises."
   ]
  },
  {
   "cell_type": "markdown",
   "id": "bac8c3a5-5e83-4848-bfee-4292edebd6d4",
   "metadata": {},
   "source": [
    "## Unemployment Trends\n",
    "The unemployment trends from 1965 to 2023 show that upper-middle-income countries generally had higher unemployment rates after 1990, while high-income countries managed to maintain relatively stable and lower unemployment rates throughout the period. There is a noticeable sharp increase in unemployment for upper-middle-income countries after 2000, which could indicate labor market disruptions or economic instability in these regions. In contrast, low-income countries show significant variability, reflecting the instability of their labor markets. Overall, it suggests that high-income countries are more consistent in managing unemployment."
   ]
  },
  {
   "cell_type": "markdown",
   "id": "6fd02ce0",
   "metadata": {},
   "source": [
    "## Significance Testing"
   ]
  },
  {
   "cell_type": "code",
   "execution_count": null,
   "id": "724eb786",
   "metadata": {},
   "outputs": [],
   "source": [
    "#Determine statistical significance of observed data.\n",
    "#Interpret findings and conclude whether to reject or fail to reject hypotheses\n",
    "#outlined in preregistration statements."
   ]
  },
  {
   "cell_type": "markdown",
   "id": "6aeaff0b",
   "metadata": {},
   "source": [
    "## Conclusion / Interpretaion"
   ]
  },
  {
   "cell_type": "markdown",
   "id": "dfe7f9c9",
   "metadata": {},
   "source": [
    "Summarize your answers to your opening research questions."
   ]
  },
  {
   "cell_type": "markdown",
   "id": "c122d873",
   "metadata": {},
   "source": [
    "## Data Limitations"
   ]
  },
  {
   "cell_type": "markdown",
   "id": "7dad2882-a5d4-48e2-bd23-455db25bf3df",
   "metadata": {},
   "source": [
    "* Missing Data: Some countries have incomplete data for certain years due to gaps in reporting, which may result in missing or estimated values that do not fully reflect actual conditions.\n",
    "* Bias in Self-Reporting: Data from governments may be subject to reporting biases, especially in politically sensitive areas such as unemployment or economic growth. For example, some participants may not fill out the information accurately. \n",
    "* Limited Detail: The dataset contains national-level data, which may overlook regional disparities within countries.\n",
    "* Interpolation: Filling in missing data using interpolation may introduce trends that do not accurately reflect economic realities."
   ]
  },
  {
   "cell_type": "markdown",
   "id": "83d743f5-446a-4006-9c87-d1448bf2a701",
   "metadata": {},
   "source": [
    "## Resources"
   ]
  },
  {
   "cell_type": "markdown",
   "id": "af836ef2-c440-41d1-8cd9-3ee9e4639d74",
   "metadata": {},
   "source": [
    "Dataset: https://databank.worldbank.org/source/world-development-indicators#\n",
    "Data Manipulation Technique: https://www.geeksforgeeks.org/interpolation-in-python/"
   ]
  }
 ],
 "metadata": {
  "kernelspec": {
   "display_name": "Python 3 (ipykernel)",
   "language": "python",
   "name": "python3"
  },
  "language_info": {
   "codemirror_mode": {
    "name": "ipython",
    "version": 3
   },
   "file_extension": ".py",
   "mimetype": "text/x-python",
   "name": "python",
   "nbconvert_exporter": "python",
   "pygments_lexer": "ipython3",
   "version": "3.12.4"
  },
  "vscode": {
   "interpreter": {
    "hash": "31f2aee4e71d21fbe5cf8b01ff0e069b9275f58929596ceb00d14d90e3e16cd6"
   }
  }
 },
 "nbformat": 4,
 "nbformat_minor": 5
}
