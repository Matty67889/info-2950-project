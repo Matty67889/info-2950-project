{
 "cells": [
  {
   "cell_type": "markdown",
   "id": "b1e60a3e",
   "metadata": {},
   "source": [
    "# INFO 2950 Phase IV - An Analysis of the Effects Income Class on Economic Indicators"
   ]
  },
  {
   "cell_type": "markdown",
   "id": "9d863cd9-a556-49f2-8935-7dc5ba44b4e8",
   "metadata": {},
   "source": [
    "**Team**: \n",
    "Carter Zhu (yz553)\n",
    "Jase Rivera (jcr297)\n",
    "Matthew Mentis-Cort (mam692)\n"
   ]
  },
  {
   "cell_type": "markdown",
   "id": "092cdcd8",
   "metadata": {},
   "source": [
    "## Table of Contents\n",
    "1. [Introduction](#Introduction)\n",
    "2. [Research Questions](#Research-Questions)\n",
    "3. [Data Description](#Data-Description)\n",
    "4. [Preregistration Statements](#Preregistration-Statements)\n",
    "5. [Data Cleaning and Preprocessing](#Data-Cleaning-and-Preprocessing)\n",
    "6. [Data Analysis](#Data-Analysis)\n",
    "    1. [Imports](#Imports)\n",
    "    2. [Data Exploration and Visualization](#Data-Exploration-and-Visualization)\n",
    "    3. [Models and Evaluation](#Models-and-Evaluation)\n",
    "7. [Conclusions](#Conclusions)\n",
    "8. [Limitaitons](#Limitations)\n",
    "9. [Resources](#Resources)"
   ]
  },
  {
   "cell_type": "markdown",
   "id": "cc343ca5-c1d3-4596-bb37-ebacfc8ab317",
   "metadata": {},
   "source": [
    "## Introduction\n",
    "\n",
    "This EDA uses data from the World Bank Group to explore economic trends across different countries from 1965 to 2023. The dataset includes key factors such as unemployment rates, GDP growth, and government expenditure on education. The goal of this analysis is to discover patterns and relationships that emphasize economic performance in the world.\n",
    "\n",
    "In this EDA, our goal is to identify key patterns and trends related to global economic inequality and development. The analysis will show which countries have reduced unemployment and increased GDP growth, as well as if investments in education correspond to these outcomes."
   ]
  },
  {
   "cell_type": "markdown",
   "id": "bcf0b554",
   "metadata": {},
   "source": [
    "## Research Questions"
   ]
  },
  {
   "cell_type": "markdown",
   "id": "7f336ee1-2290-42ad-b87b-5864cd6a427a",
   "metadata": {},
   "source": [
    "How does government expenditure on education influence long-term changes in GDP growth rates (as a measure of economic growth) and unemployment rates in developing (low-income and lower-middle-income) versus developed (upper-middle-income and high-income) countries?"
   ]
  },
  {
   "cell_type": "markdown",
   "id": "59a825f8",
   "metadata": {},
   "source": [
    "## Data Description\n",
    "\n",
    "**What are the observations (rows) and the attributes (columns)?**\n",
    "\n",
    "Observations (Rows): Each row in the dataset corresponds to a country and a specific economic indicator (e.g., GDP growth, government expenditure on education, or unemployment) for mulitple years(1965-2023). The rows are structured with country-level data, showing trends and changes in economic indicators over time.\n",
    "\n",
    "Attributes (Columns):\n",
    "Country Name: The name of the country.\n",
    "Country Code: A unique identifier for each country (ISO or similar).\n",
    "Series Name: The economic indicator (e.g., GDP growth, unemployment, government expenditure on education).\n",
    "Year Columns: Yearly data points from 1965 to 2023, where each column represents the recorded value of the economic indicator for that specific year.\n",
    "\n",
    "**Why was this dataset created?**\n",
    "\n",
    "The dataset was created to track economic performance and trends in different countries over time. The data helps governments, policymakers, economists, and international organizations understand key economic metrics such as GDP growth, government expenditure on education, and unemployment rates, which can guide economic development strategies and interventions in different regions of the world. \n",
    "\n",
    "**Who funded the creation of the dataset?**\n",
    "\n",
    "The dataset was funded and crafted by The World Bank, a global financial institution that supports development efforts in countries world-wide. Its mission is to reduce poverty and promote sustainable development so the World Bank regularly collects and publishes data on a wide range of economic indicators to aid in policy-making and development planning.\n",
    "\n",
    "**What processes might have influenced what data was observed and recorded and what was not?**\n",
    "\n",
    "Data availability and reliability: Some countries may not have consistent or complete data records due to political instability, inadequate infrastructure, or limited data collection capabilities. This can lead to missing or incomplete data for certain years.\n",
    "\n",
    "Selection of indicators: The choice of economic indicators included in the dataset (e.g., GDP growth, unemployment, government expenditure) reflects the focus areas of development agencies and governments. I believe these indicators chosen are deemed critical and essential for assessing economic health.\n",
    "\n",
    "Reporting standards: Differences in national reporting standards and data collection methods could lead to variations in data quality and coverage.\n",
    "\n",
    "Bias in data recording: Some data points may reflect self-reported figures from governments, which could be subject to political influence or reporting biases, particularly in countries where transparency or accurate reporting is less enforced.\n",
    "\n",
    "**What preprocessing was done, and how did the data come to be in the form that you are using?**\n",
    "\n",
    "The original data consisted of four datasets grouped by income level of the countries(low_income, lower_middle, upper_middle, high_income) to distinguish between developing and developed countries. Preprocessing was done to standardize economic indicators and ensure consistency across countries and years.\n",
    "\n",
    "First, only the relevant economic indicators—GDP growth, government expenditure on education, and unemployment—were retained. Rows missing essential information like Country Name, Country Code, or Series Name were removed. Year columns from 1960 to 1964 were excluded due to data quality issue, and non-numeric values like \"..\" were replaced with NaN.\n",
    "\n",
    "To handle missing values,linear interpolation was used to estimate missing data based on adjacent trends. Remaining NaN rows were dropped as there was too many missing data for linear interpolation to work well, and a new column, country_type, was added to label each country based on its income group. Finally, all datasets were merged into a single dataset for analysis.\n",
    "\n",
    "**If people are involved, were they aware of the data collection and if so, what purpose did they expect the data to be used for?**\n",
    "\n",
    "Data collection for this type of dataset is typically done through government reporting mechanisms and international data collection efforts, not directly involving individuals. Governments or institutions contributing data likely understood that the information would be used for development assessments, economic planning, and research purposes. However, the individuals whose economic data are aggregated (e.g., unemployment figures) may not be aware of the specific data collection.\n",
    "\n",
    "\n",
    "**Where can your raw source data be found, if applicable? Provide a link to the raw data.**\n",
    "\n",
    "The four original dataset that we merged along with the final_dataset is in the google drive. we have also uploaded it to github.\n",
    "\n",
    "https://drive.google.com/drive/folders/1Ka6LAx-YR8TA3QkG9799JndAbxd8Jlio?usp=sharing\n",
    "https://databank.worldbank.org/source/world-development-indicators#\n"
   ]
  },
  {
   "cell_type": "markdown",
   "id": "f7c028f8",
   "metadata": {},
   "source": [
    "## Preregistration Statements"
   ]
  },
  {
   "cell_type": "markdown",
   "id": "50cd8a88",
   "metadata": {},
   "source": [
    "\n",
    "**Hypothesis 1:** Higher government expenditure on education leads to higher GDP growth in both developing and developed countries, but the impact is greater in developing countries.\n",
    "\n",
    "- **Null Hypothesis**: The effect of government expenditure on education on GDP growth does not differ significantly between developing and developed countries \n",
    "\n",
    "- **Alternative Hypothesis**: The effect of government expenditure on education on GDP growth is significantly greater in developing countries compared to developed countries \n",
    "\n",
    "**Context & Rationale:** \n",
    "\n",
    "Education is a well-established driver of economic growth because it builds human capital by enhancing individual's skill and productivity.For instance, in many developing countries, where access to quality education is limited, an increased in government spending on education can most definetely help bridge this gap in literacy and technical training, equipping more people to participate effectively in the labor force. Studies like Barro (1991) and Hanushek & Woessmann (2012) have shown that such investments lead to significant improvements in innovation and economic output, particularly in developing countries where baseline education levels are lower. For developing countries, increased government expenditure on education has the potential to address systemic deficits in human capital and creates significant improvements in economic output. Developed countries, on the other hand, may already have robust educational systems so it will result in smaller returns on additional expenditure. For example, in countries like India, government programs focused on primary and secondary education, such as the Sarva Shiksha Abhiyan (Education for All Movement), have contributed to higher school enrollment rates and long-term economic benefits. By contrast, in developed countries like Germany or the United States, where educational systems are already advanced and broadly accessible, additional spending on education often results in smaller marginal improvements, as the foundational infrastructure and access are already in place.\n",
    "\n",
    "**Analysis Plan:**\n",
    "\n",
    "To test this hypothesis, a multiple regression analysis will be conducted where the dependent variable is GDP growth (annual %), and the independent variables are government expenditure on education (total % of GDP) and income class. Income class will be represented as a binary variable (1 = developing countries; 0 = developed countries), and we will include an interaction term between government expenditure on education and income class. This setup allows us to test whether the effect of education expenditure on GDP growth differs significantly between developing and developed countries. We will test the significance of the interaction term using a two-tailed t-test, where a p-value <= 0.05 will indicate that the effect of education expenditure on GPD growth is significantly different between developing and developed countries. Additionally, we will evaluate the magnitude and the direction of the coefficient to confirm whether the effect is stronger in developing countries. \n",
    "\n",
    "\n",
    "\n",
    "**Hypothesis 2:** An increase in government expenditure on education reduces long-term unemployment rates more significantly in developing countries than in developed countries.\n",
    "\n",
    "- **Null Hypothesis**: The interaction between government expenditure on education and income class does not have a significant effect on unemployment rates\n",
    "\n",
    "- **Alternative Hypothesis**: The interaction between government expenditure on education and income class has a significant effect on unemployment rates, with a stronger reduction in unemployment rates in developing countries compared to developed countries \n",
    "\n",
    "**Context & Rationale:**\n",
    "\n",
    "Education enhances employability by providing individuals with skills that meet the demands of the job market, a relationship consistently highlighted in labor economics research (OECD, 2010; Psacharopoulos & Patrinos, 2004). For example, in developing countries like Kenya, investments in technical and vocational education programs, such as the Youth Empowerment Project, have helped bridge skill gaps and prepared young people for roles in industries like construction and technology, significantly reducing unemployment among youth. While both developing and developed countries benefit from increased education spending, the impact is often greater in developing nations. This is because many developing countries face a shortage of trained workers, and education initiatives can directly address these gaps. By contrast, in developed countries like Japan, where educational attainment is already high, additional spending may lead to smaller improvements, as the workforce is already equipped with advanced skills and labor markets tend to be more efficient.\n",
    "\n",
    "\n",
    "**Analysis Plan:** \n",
    "\n",
    "We will perform a multiple regression analysis where the dependent variable is the unemployment rate (total % of labor force, modeled ILO estimate). The independent variables will include government expenditure on education (total % of GDP), year (to capture long-term trends), and income class. Income class will be represented as a binary variable (1 = developing countries) [low and lower middle-income], 0 = developed countries [upper middle and high-income]). We will create a interaction terms between income class and education expenditure to model differential effects between these variables. For testing, we will focus on the coefficients of the interaction terms between education expenditure and income class. For each interaction term, a two-tailed t-test will be conducted to test whether its coefficient is significantly different from zero. A p-value <= 0.05 will mean there is a significant effect. Additionally, we will examine the magnitude and sign of these coefficients to determine whether education spending has a stronger nagtive effect on unemployment in developing countries(low and lower middle-income groups) compared to developed countries (upper middle and high-income groups).\n",
    "\n",
    "To address the long term effect, we will access whether the interaction term remains signifcant acorss different years by including a three-way interaction (Education Expenditure x Income Class x Year). This will allow us to analyze whether the impact of education expenditure on unemployment changes over time and whether this change varies between developing and developed countries.\n",
    "\n",
    "\n",
    "\n",
    "\n"
   ]
  },
  {
   "cell_type": "markdown",
   "id": "e596b602",
   "metadata": {},
   "source": [
    "## Data Cleaning and Preprocessing"
   ]
  },
  {
   "cell_type": "markdown",
   "id": "61b12c70",
   "metadata": {},
   "source": [
    "The data cleaning process involved multiple structured steps to ensure consistency, completeness, and proper formatting of the data for analysis. To address the research question, \"How does government expenditure on education impact long-term economic growth and unemployment in developing versus developed countries?\", the dataset was filtered to focus on three key variables. GDP growth (annual %) was selected as it serves as a fundamental measure of economic growth, reflecting the annual percentage increase in a country's economic output and providing insight into the broader economic impact of government policies. Government expenditure on education (total % of GDP) was included as it directly measures a country's investment in education relative to its economic output, capturing the priority placed on educational funding. Unemployment (total % of labor force, modeled ILO estimate) was chosen to assess labor market outcomes, particularly the effectiveness of economic and educational policies in addressing employment challenges.\n",
    "\n",
    "Rows missing essential identifying information, such as Country Name, Country Code, or Series Name, were removed to maintain data integrity. Columns corresponding to the years 1960 to 1964 were excluded because they contained too many missing values to be useful. Non-numeric placeholders, such as .., were replaced with NaN to enable numeric operations, and the year columns were converted to a numeric format for consistency.\n",
    "\n",
    "Linear interpolation was applied to estimate missing values based on trends in adjacent data points. This method was chosen because it preserves the temporal continuity of the dataset, ensures smooth transitions between known values, and minimizes the bias that other methods, such as mean imputation, could introduce. After interpolation, any remaining rows with NaN values were dropped to create a fully complete dataset. To enable comparison across countries, a new column, country_type, was added, categorizing countries based on their income classification (e.g., low_income, lower_middle, upper_middle, and high_income). Finally, the individual datasets were merged into a single, unified dataset. This thorough process ensured that the dataset was prepared for meaningful analysis, addressing gaps and inconsistencies while maintaining the integrity of the trends across key variables.\n"
   ]
  },
  {
   "cell_type": "markdown",
   "id": "06cd26ca",
   "metadata": {},
   "source": [
    "## Data Analysis"
   ]
  },
  {
   "cell_type": "markdown",
   "id": "bc94518a-d605-4f1f-9e05-a9ecb08a0c96",
   "metadata": {},
   "source": [
    "### Imports"
   ]
  },
  {
   "cell_type": "code",
   "execution_count": null,
   "id": "55206f4e-dbf7-4d64-bac4-8d6e745f431d",
   "metadata": {},
   "outputs": [],
   "source": [
    "import statsmodels.api as sm\n",
    "import numpy as np\n",
    "import pandas as pd\n",
    "import matplotlib.pyplot as plt\n",
    "import seaborn as sns"
   ]
  },
  {
   "cell_type": "markdown",
   "id": "0beecfda",
   "metadata": {},
   "source": [
    "### Data Exploration and Visualization"
   ]
  },
  {
   "cell_type": "markdown",
   "id": "b05a1411-e92f-49a2-a0e0-67425a8326ae",
   "metadata": {},
   "source": [
    "We built a summary table to show statistics for each of our variables of interest, GDP growth, government expenditure, and unemployment. This gives us an idea of how many points we have in the dataset, and some of the extremes and summary statistics for each of our variables. The maxes for each variable are particularly interesting because it shows us that we have poential outliers to account for in the future (e.g. max unemployment percent of $82\\%$).\n",
    "\n",
    "The data shows significant variability in global economic indicators:\n",
    "\n",
    "GDP growth averages 3.88%, with large fluctuations (std: 6.74)\n",
    "Government expenditure on education averages 4.7% of GDP\n",
    "Unemployment rate averages 6.04%, with wide variability (std: 6.26)"
   ]
  },
  {
   "cell_type": "code",
   "execution_count": null,
   "id": "0d36f36d-6ecb-4c6b-8533-91b1f9918b65",
   "metadata": {},
   "outputs": [],
   "source": [
    "data=  pd.read_csv('final_cleaned_data.csv')\n",
    "\n",
    "#specific economic indicators \n",
    "key_metrics = ['Unemployment, total (% of total labor force) (modeled ILO estimate)',\n",
    "               'GDP growth (annual %)',\n",
    "               'Government expenditure on education, total (% of GDP)']\n",
    "\n",
    "#all the years we are analyzing \n",
    "years_columns = [f\"{year} [YR{year}]\" for year in range(1965, 2024)]\n",
    "\n",
    "\n",
    "#reshape data so year becomes rows instead of columns\n",
    "time_data_full = data[data['Series Name'].isin(key_metrics)].melt\\\n",
    "(id_vars=['Country Name', 'country_type', 'Series Name'], \\\n",
    "value_vars=years_columns, var_name='Year', value_name='Value')\n",
    "\n",
    "summary_data = time_data_full[time_data_full['Series Name'].isin([\n",
    "    \"Unemployment, total (% of total labor force) (modeled ILO estimate)\",\n",
    "    \"GDP growth (annual %)\",\n",
    "    \"Government expenditure on education, total (% of GDP)\"\n",
    "])]\n",
    "\n",
    "summary_data_pivot = summary_data.pivot_table(index=\\\n",
    "                ['Country Name', 'Year', 'country_type'], \\\n",
    "                                        \n",
    "                 columns='Series Name', values='Value').dropna()\n",
    "\n",
    "summary_statistics = summary_data_pivot.describe()\n",
    "#summary_data_pivot.head()\n",
    "summary_statistics"
   ]
  },
  {
   "cell_type": "markdown",
   "id": "9fc63248-acc0-4fd9-8aa9-dc008bb3bdd5",
   "metadata": {},
   "source": [
    "Because we are interested in the trends for each income group, we made some lineplots showing how GDP Growth, government expendiure, and unemployment change over time. Making these charts allows us to see commonalities between variables in various time periods. We can compare the trends of the lines between plots for different variables to see which ones have similar trends over time."
   ]
  },
  {
   "cell_type": "code",
   "execution_count": null,
   "id": "e9000edb",
   "metadata": {},
   "outputs": [],
   "source": [
    "key_metrics = ['Unemployment, total (% of total labor force) (modeled ILO estimate)',\n",
    "               'GDP growth (annual %)',\n",
    "               'Government expenditure on education, total (% of GDP)']\n",
    "\n",
    "years_columns = [f\"{year} [YR{year}]\" for year in range(1965, 2024)]\n",
    "time_data_full = data[data['Series Name'].isin(key_metrics)].melt\\\n",
    "(id_vars=['Country Name', 'country_type', 'Series Name'],\\\n",
    " value_vars=years_columns, var_name='Year', value_name='Value')\n",
    "\n",
    "# Remove the \"[YRXXXX]\" part from the Year column\n",
    "time_data_full['Year'] = time_data_full['Year'].str.extract(r'(\\d{4})')\n",
    "\n",
    "# Convert Year to numeric\n",
    "time_data_full['Year'] = pd.to_numeric(time_data_full['Year'], errors='coerce')\n",
    "\n",
    "# Check the updated DataFrame\n",
    "print(time_data_full.head())\n",
    "print(time_data_full.columns)"
   ]
  },
  {
   "cell_type": "code",
   "execution_count": null,
   "id": "dd14789b-bd27-4a5c-9e38-5a2c98f2b04d",
   "metadata": {},
   "outputs": [],
   "source": [
    "#GDP Growth (Annual %) Trend Analysis Over Time (1965-2023)\n",
    "\n",
    "gdp_data = time_data_full[time_data_full['Series Name'] == \"GDP growth (annual %)\"]\n",
    "plt.figure(figsize=(18, 8))\n",
    "sns.lineplot(data=gdp_data, x=\"Year\", y=\"Value\", \\\n",
    "hue=\"country_type\", markers=True, dashes=False, errorbar = None)\n",
    "plt.title(\"GDP Growth (Annual %) Trend Analysis Over Time (1965-2023)\")\n",
    "plt.ylabel(\"GDP Growth (%)\")\n",
    "plt.xlabel(\"Year\")\n",
    "plt.xticks(rotation =60)\n",
    "plt.legend(title='Country Type')\n",
    "plt.grid(True)\n",
    "plt.show()"
   ]
  },
  {
   "cell_type": "markdown",
   "id": "95f1ef28-5db7-4ec9-86e2-85611fe483b5",
   "metadata": {},
   "source": [
    "The chart shows that while all countries experience cyclical economic growth, low-income countries are more vulnerable to economic instability and take longer to recover from economic downturns. In contrast, high-income and upper-middle-income countries tend to have more stable growth patterns, with faster recovery times from global emergencies. Major dips in 2008-2009 (financial crisis) and 2020 (COVID-19) affected all groups, but low-income nations were hit harder. Recently, there's a strong recovery across all country types, though the growth is not fully stabilized yet.\n"
   ]
  },
  {
   "cell_type": "code",
   "execution_count": null,
   "id": "505de211-ddb0-4ea2-9209-5022b396a148",
   "metadata": {},
   "outputs": [],
   "source": [
    "#Unemployment, total (% of total labor force) (modeled ILO estimate) Trend Analysis Over Time (1965-2023)\n",
    "\n",
    "education_data_full = time_data_full[time_data_full['Series Name'] \\\n",
    "== \"Unemployment, total (% of total labor force) (modeled ILO estimate)\"]\n",
    "plt.figure(figsize=(18, 8))\n",
    "sns.lineplot(data=education_data_full, x=\"Year\", y=\"Value\", \\\n",
    "hue=\"country_type\", markers=True, dashes=False, errorbar = None)\n",
    "plt.title(\"Unemployment, total (% of total labor force) \\\n",
    "(modeled ILO estimate) Trend Analysis Over Time (1965-2023)\")\n",
    "plt.ylabel(\"Unemployment, total (% of total labor force) (modeled ILO estimate)\")\n",
    "plt.xlabel(\"Year\")\n",
    "plt.xticks(rotation = 60)\n",
    "plt.legend(title='Country Type')\n",
    "plt.grid(True)\n",
    "plt.show()"
   ]
  },
  {
   "cell_type": "markdown",
   "id": "cdebe62f-3633-43d2-9933-60965804fc48",
   "metadata": {},
   "source": [
    "This chart shows differences in how unemployment rates are across country income levels; upper-middle-income countries show continuous issues in the labor market. High-income countries recover more quickly after global recessions, while low-income countries exhibit more stability in unemployment rates, although it is possible that this could be due to data limitations or a high level of informal employment. Furthermore, high-income countries consistently having the lowest unemployment, while upper-middle-income countries experienced a significant spike around the 1990s but have since improved. The data also highlights the global impact of events like the 1980s recession, the 2008 financial crisis, and the 2020 pandemic.\n"
   ]
  },
  {
   "cell_type": "code",
   "execution_count": null,
   "id": "9c8cad8a-babc-445c-aef1-668748a6c808",
   "metadata": {
    "scrolled": true
   },
   "outputs": [],
   "source": [
    "#Government Expenditure on Education (% of GDP) Trend Analysis Over Time (1965-2023)\n",
    "\n",
    "education_data_full = time_data_full[time_data_full['Series Name'] \\\n",
    "== \"Government expenditure on education, total (% of GDP)\"]\n",
    "plt.figure(figsize=(18, 8))\n",
    "sns.lineplot(data=education_data_full, x=\"Year\", y=\"Value\",\\\n",
    "hue=\"country_type\", markers=True, dashes=False, errorbar = None)\n",
    "plt.title(\"Government Expenditure on Education (% of GDP) \\\n",
    "Trend Analysis Over Time (1965-2023)\")\n",
    "plt.ylabel(\"Government Expenditure (% of GDP)\")\n",
    "plt.xlabel(\"Year\")\n",
    "plt.xticks(rotation = 60)\n",
    "plt.legend(title='Country Type')\n",
    "plt.grid(True)\n",
    "plt.show()"
   ]
  },
  {
   "cell_type": "markdown",
   "id": "df040825-5f2a-4f0c-bf6f-8b71bacb1b47",
   "metadata": {},
   "source": [
    "Upper-middle-income countries consistently spend the **most on education**, especially after the 1990s. High- and lower-middle-income countries have **stable spending** between **4-6%** of GDP. Low-income countries show **more volatility** with sharp drops in the 1990s but recovery afterward."
   ]
  },
  {
   "cell_type": "markdown",
   "id": "13e16c54-2464-4013-a3a4-9bdda80ab66c",
   "metadata": {},
   "source": [
    "We also want to observe the correlation between variables to examine which variables may have a relationship. From the correlation heat map below, we observe that GDP growth and government expenditure and government expenditure and unemployment have higher than 0.7 correlation coefficients, suggesting that they effect each other in a real life for the areas in our dataset."
   ]
  },
  {
   "cell_type": "code",
   "execution_count": null,
   "id": "16f235b3-5195-480e-b4b0-5ccb9ded9992",
   "metadata": {},
   "outputs": [],
   "source": [
    "#Correlation Heatmap Between Key Economic Indicators\n",
    "\n",
    "corr_data = time_data_full[time_data_full['Series Name'].isin([\n",
    "    \"Unemployment, total (% of total labor force) (modeled ILO estimate)\",\n",
    "    \"GDP growth (annual %)\",\n",
    "    \"Government expenditure on education, total (% of GDP)\"\n",
    "])]\n",
    "corr_data_pivot = corr_data.pivot_table(index=['Country Name',\\\n",
    "            'Year', 'country_type'], columns='Series Name', values='Value')\n",
    "correlation_matrix = corr_data_pivot.corr()\n",
    "plt.figure(figsize=(10, 6))\n",
    "sns.heatmap(correlation_matrix, annot=True, cmap=\"coolwarm\", linewidths=0.5)\n",
    "plt.title(\"Correlation Heatmap Between Key Economic Indicators\")\n",
    "plt.show()\n"
   ]
  },
  {
   "cell_type": "markdown",
   "id": "2942cb21-2550-4572-8870-677a01aca356",
   "metadata": {},
   "source": [
    "The heatmap shows strong positive correlations between GDP growth and education spending (0.75), and a strong negative correlation between education spending and unemployment (0.71). There’s also a moderate negative correlation between GDP growth and unemployment (0.41). This suggests a very interesting insight: higher education spending is linked to both higher growth and lower unemployment.\n",
    "\n",
    "It reveals the relationships between economic growth, education investment, and labor market outcomes. While education spending correlates positively with both GDP growth and unemployment, the long-term benefits of the investments mae take more time to materialize, specifically in improving labor market conditions. Countries experiencing fast GDP growth may also face a temporary increase in unemployment becuase of shifts in labor demand, especially during periods of economic change or technological advancement."
   ]
  },
  {
   "cell_type": "markdown",
   "id": "4eb4e7e1",
   "metadata": {},
   "source": [
    "### Models and Evaluation"
   ]
  },
  {
   "cell_type": "code",
   "execution_count": null,
   "id": "117fbf30",
   "metadata": {},
   "outputs": [],
   "source": [
    "#Hypothesis 1 GDP growth\n",
    "\n",
    "gdp_model_data = time_data_full[time_data_full[\"Series Name\"].isin(\n",
    "    [\"GDP growth (annual %)\", \"Government expenditure on education, total (% of GDP)\"]\n",
    ")]\n",
    "\n",
    "# Pivot the data to make 'GDP growth' and 'Education expenditure' columns\n",
    "gdp_model_data = gdp_model_data.pivot_table(\n",
    "    index=[\"Country Name\", \"Year\", \"country_type\"],\n",
    "    columns=\"Series Name\",\n",
    "    values=\"Value\"\n",
    ").reset_index()\n",
    "\n",
    "\n",
    "gdp_model_data = gdp_model_data.rename(\n",
    "    columns={\n",
    "        \"GDP growth (annual %)\": \"gdp_growth\",\n",
    "        \"Government expenditure on education, total (% of GDP)\": \"education_expenditure\"\n",
    "    }\n",
    ")\n",
    "\n",
    "# Encode country type\n",
    "gdp_model_data[\"country_type_encoded\"] = gdp_model_data[\"country_type\"].map({\"low_income\": 1, \"lower_middle\": 1, \"upper_middle\": 0, \"high_income\": 0})\n",
    "\n",
    "# Add interaction term (country type x education expenditure )\n",
    "#captures whether the effect of education expenditure on GDP growth\n",
    "# differs between developing and developed countries.\n",
    "gdp_model_data[\"interaction\"] = gdp_model_data[\"country_type_encoded\"] * gdp_model_data[\"education_expenditure\"]\n",
    "\n",
    "# Drop rows with missing values\n",
    "gdp_model_data = gdp_model_data.dropna(subset=[\"gdp_growth\", \"education_expenditure\", \"country_type_encoded\", \"interaction\"])\n",
    "\n",
    "\n",
    "gdp_model_data[\"gdp_growth\"] = pd.to_numeric(gdp_model_data[\"gdp_growth\"], errors=\"coerce\")\n",
    "gdp_model_data[\"education_expenditure\"] = pd.to_numeric(gdp_model_data[\"education_expenditure\"], errors=\"coerce\")\n",
    "gdp_model_data[\"interaction\"] = pd.to_numeric(gdp_model_data[\"interaction\"], errors=\"coerce\")\n",
    "\n",
    "#\n",
    "#X_gdp: Independent variables:\n",
    "\n",
    "#Value_education: Education expenditure.\n",
    "#country_type_encoded: Country type (developing vs. developed).\n",
    "#interaction: Interaction term for country type and education expenditure.\n",
    "#sm.add_constant(X_gdp): Adds a constant (intercept) term to the regression.\n",
    "#y_gdp: Dependent variable (Value_gdp or GDP growth).\n",
    "# Run regression\n",
    "if not gdp_model_data.empty:\n",
    "    X_gdp = gdp_model_data[[\"education_expenditure\", \"country_type_encoded\", \"interaction\"]]\n",
    "    y_gdp = gdp_model_data[\"gdp_growth\"]\n",
    "    X_gdp = sm.add_constant(X_gdp)\n",
    "\n",
    "    gdp_model = sm.OLS(y_gdp, X_gdp).fit()\n",
    "    print(\"\\nGDP Growth Regression:\\n\", gdp_model.summary())\n",
    "else:\n",
    "    print(\"No valid data for GDP regression.\")\n",
    "\n"
   ]
  },
  {
   "cell_type": "markdown",
   "id": "4683a049",
   "metadata": {},
   "source": [
    "## GDP Growth Trends \n",
    "The analysis of GDP growth trends involves compares countries of different socioeconomic status from 1965 to 2023. The results indicate that all country types experienced similar GDP growth patterns, largely influenced by significant global events, such as the 2008 financial crisis and the COVID-19 pandemic in 2020. A significant finding here is a spike in GDP growth in 2021, specifically for upper-middle-income countries, which likely reflects economic recovery after the pandemic. The regression analysis showed that high-income and upper-middle-income countries tend to recover quicker from economic downturns, whereas developing countries face more significant challenges in achieving similar stability. This suggests that the economic stability in high-income regions is better equipped to handle global crisises."
   ]
  },
  {
   "cell_type": "code",
   "execution_count": null,
   "id": "9140f144-aa90-4a42-bb55-ce99f3a1997e",
   "metadata": {},
   "outputs": [],
   "source": [
    "#Hypothesis 2 Unemployment \n",
    "import statsmodels.api as sm\n",
    "\n",
    "unemployment_data = time_data_full[time_data_full[\"Series Name\"].isin(\n",
    "    [\"Unemployment, total (% of total labor force) (modeled ILO estimate)\", \"Government expenditure on education, total (% of GDP)\"]\n",
    ")]\n",
    "\n",
    "# Pivot the data to make 'Unemployment' and 'Education expenditure' columns\n",
    "unemployment_model_data = unemployment_data.pivot_table(\n",
    "    index=[\"Country Name\", \"Year\", \"country_type\"],\n",
    "    columns=\"Series Name\",\n",
    "    values=\"Value\"\n",
    ").reset_index()\n",
    "\n",
    "\n",
    "unemployment_model_data = unemployment_model_data.rename(\n",
    "    columns={\n",
    "        \"Unemployment, total (% of total labor force) (modeled ILO estimate)\": \"unemployment\",\n",
    "        \"Government expenditure on education, total (% of GDP)\": \"education_expenditure\"\n",
    "    }\n",
    ")\n",
    "\n",
    "# Encode country type\n",
    "unemployment_model_data[\"country_type_encoded\"] = unemployment_model_data[\"country_type\"].map({\"low_income\": 1, \"lower_middle\": 1, \"upper_middle\": 0, \"high_income\": 0})\n",
    "\n",
    "# Add interaction term (between countrytype and education expenditure)\n",
    "unemployment_model_data[\"interaction\"] = unemployment_model_data[\"country_type_encoded\"] * unemployment_model_data[\"education_expenditure\"]\n",
    "\n",
    "# Add a three-way interaction term to capture the long-term effect over years\n",
    "unemployment_model_data[\"three_way_interaction\"] = unemployment_model_data[\"interaction\"] * unemployment_model_data[\"Year\"]\n",
    "\n",
    "\n",
    "unemployment_model_data = unemployment_model_data.dropna(subset=[\"unemployment\", \"education_expenditure\", \"country_type_encoded\", \"interaction\", \"three_way_interaction\"])\n",
    "\n",
    "#niumeirc\n",
    "unemployment_model_data[\"unemployment\"] = pd.to_numeric(unemployment_model_data[\"unemployment\"], errors=\"coerce\")\n",
    "unemployment_model_data[\"education_expenditure\"] = pd.to_numeric(unemployment_model_data[\"education_expenditure\"], errors=\"coerce\")\n",
    "unemployment_model_data[\"interaction\"] = pd.to_numeric(unemployment_model_data[\"interaction\"], errors=\"coerce\")\n",
    "unemployment_model_data[\"three_way_interaction\"] = pd.to_numeric(unemployment_model_data[\"three_way_interaction\"], errors=\"coerce\")\n",
    "\n",
    "# Run regression\n",
    "if not unemployment_model_data.empty:\n",
    "    X_unemployment = unemployment_model_data[[\"education_expenditure\", \"country_type_encoded\", \"interaction\", \"Year\", \"three_way_interaction\"]]\n",
    "    y_unemployment = unemployment_model_data[\"unemployment\"]\n",
    "    X_unemployment = sm.add_constant(X_unemployment)\n",
    "\n",
    "    unemployment_model = sm.OLS(y_unemployment, X_unemployment).fit()\n",
    "    print(\"\\nUnemployment Regression:\\n\", unemployment_model.summary())\n",
    "else:\n",
    "    print(\"No valid data for unemployment regression.\")\n"
   ]
  },
  {
   "cell_type": "markdown",
   "id": "bac8c3a5-5e83-4848-bfee-4292edebd6d4",
   "metadata": {},
   "source": [
    "## Unemployment Trends\n",
    "The unemployment trends from 1965 to 2023 show that upper-middle-income countries generally had higher unemployment rates after 1990, while high-income countries maintained relatively stable/lower unemployment rates. There is a noticeable increase in unemployment for upper-middle-income countries after 2000, which could suggest disruptions in the labor market or economic instability. In contrast, low-income countries show significant variability, reflecting the instability of their labor markets. Overall, the trends suggest that high-income countries are more consistent in handling unemployment."
   ]
  },
  {
   "cell_type": "code",
   "execution_count": null,
   "id": "724eb786",
   "metadata": {},
   "outputs": [],
   "source": [
    "# Residuals from the model for hyp 1 gdp\n",
    "residuals = gdp_model.resid\n",
    "\n",
    "# Predicted values from the model\n",
    "fitted_values = gdp_model.fittedvalues\n",
    "\n",
    "# 1. Residuals vs. Fitted Values (Linearity)\n",
    "plt.scatter(fitted_values, residuals, alpha=0.6)\n",
    "plt.axhline(0, color='red', linestyle='--', linewidth=1)\n",
    "plt.title(\"Residuals vs. Fitted Values\")\n",
    "plt.xlabel(\"Fitted Values\")\n",
    "plt.ylabel(\"Residuals\")\n",
    "plt.show()\n",
    "\n",
    "# 2. Residuals vs. Fitted Values with Trendline (Homoscedasticity)\n",
    "sns.residplot(x=fitted_values, y=residuals, lowess=True, line_kws={'color': 'red'})\n",
    "plt.title(\"Residuals vs. Fitted Values (Homoscedasticity)\")\n",
    "plt.xlabel(\"Fitted Values\")\n",
    "plt.ylabel(\"Residuals\")\n",
    "plt.show()\n",
    "\n",
    "# 3. Histogram of Residuals (Distribution of Residuals)\n",
    "sns.histplot(residuals, kde=True, bins=30, color='blue')\n",
    "plt.title(\"Histogram of Residuals\")\n",
    "plt.xlabel(\"Residuals\")\n",
    "plt.ylabel(\"Frequency\")\n",
    "plt.show()\n"
   ]
  },
  {
   "cell_type": "code",
   "execution_count": null,
   "id": "babeb4f3",
   "metadata": {},
   "outputs": [],
   "source": [
    "# Residuals from the unemployment model\n",
    "residuals_unemployment = unemployment_model.resid\n",
    "\n",
    "# Predicted (fitted) values from the unemployment model\n",
    "fitted_values_unemployment = unemployment_model.fittedvalues\n",
    "\n",
    "# 1. Residuals vs. Fitted Values (Linearity Check)\n",
    "plt.scatter(fitted_values_unemployment, residuals_unemployment, alpha=0.6)\n",
    "plt.axhline(0, color='red', linestyle='--', linewidth=1)\n",
    "plt.title(\"Residuals vs. Fitted Values (Linearity Check)\")\n",
    "plt.xlabel(\"Fitted Values\")\n",
    "plt.ylabel(\"Residuals\")\n",
    "plt.show()\n",
    "\n",
    "# 2. Residuals vs. Fitted Values with Trendline (Homoscedasticity Check)\n",
    "sns.residplot(x=fitted_values_unemployment, y=residuals_unemployment, lowess=True, line_kws={'color': 'red'})\n",
    "plt.title(\"Residuals vs. Fitted Values (Homoscedasticity Check)\")\n",
    "plt.xlabel(\"Fitted Values\")\n",
    "plt.ylabel(\"Residuals\")\n",
    "plt.show()\n",
    "\n",
    "# 3. Histogram of Residuals (Normality Check)\n",
    "sns.histplot(residuals_unemployment, kde=True, bins=30, color='blue')\n",
    "plt.title(\"Histogram of Residuals (Normality Check)\")\n",
    "plt.xlabel(\"Residuals\")\n",
    "plt.ylabel(\"Frequency\")\n",
    "plt.show()"
   ]
  },
  {
   "cell_type": "markdown",
   "id": "6aeaff0b",
   "metadata": {},
   "source": [
    "## Conclusions"
   ]
  },
  {
   "cell_type": "markdown",
   "id": "dfe7f9c9",
   "metadata": {},
   "source": [
    "Summarize your answers to your opening research questions."
   ]
  },
  {
   "cell_type": "markdown",
   "id": "c122d873",
   "metadata": {},
   "source": [
    "## Limitations"
   ]
  },
  {
   "cell_type": "markdown",
   "id": "7dad2882-a5d4-48e2-bd23-455db25bf3df",
   "metadata": {},
   "source": [
    "* Missing Data: Some countries have incomplete data for certain years due to gaps in reporting, which may result in missing or estimated values that do not fully reflect actual conditions.\n",
    "* Bias in Self-Reporting: Data from governments may be subject to reporting biases, especially in politically sensitive areas such as unemployment or economic growth. For example, some participants may not fill out the information accurately. \n",
    "* Limited Detail: The dataset contains national-level data, which may overlook regional disparities within countries.\n",
    "* Interpolation: Filling in missing data using interpolation may introduce trends that do not accurately reflect economic realities."
   ]
  },
  {
   "cell_type": "markdown",
   "id": "83d743f5-446a-4006-9c87-d1448bf2a701",
   "metadata": {},
   "source": [
    "## Resources"
   ]
  },
  {
   "cell_type": "markdown",
   "id": "af836ef2-c440-41d1-8cd9-3ee9e4639d74",
   "metadata": {},
   "source": [
    "Dataset: https://databank.worldbank.org/source/world-development-indicators#\n",
    "\n",
    "Data Manipulation Technique: https://www.geeksforgeeks.org/interpolation-in-python/"
   ]
  },
  {
   "cell_type": "markdown",
   "id": "cbd8fe98-4769-4947-bb52-ebf6f23884c8",
   "metadata": {},
   "source": [
    "[Back to Top](#Table-of-Contents)"
   ]
  }
 ],
 "metadata": {
  "kernelspec": {
   "display_name": "Python 3 (ipykernel)",
   "language": "python",
   "name": "python3"
  },
  "language_info": {
   "codemirror_mode": {
    "name": "ipython",
    "version": 3
   },
   "file_extension": ".py",
   "mimetype": "text/x-python",
   "name": "python",
   "nbconvert_exporter": "python",
   "pygments_lexer": "ipython3",
   "version": "3.12.3"
  },
  "vscode": {
   "interpreter": {
    "hash": "31f2aee4e71d21fbe5cf8b01ff0e069b9275f58929596ceb00d14d90e3e16cd6"
   }
  }
 },
 "nbformat": 4,
 "nbformat_minor": 5
}
