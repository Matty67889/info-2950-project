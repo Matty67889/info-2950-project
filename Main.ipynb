{
 "cells": [
  {
   "cell_type": "markdown",
   "id": "b1e60a3e",
   "metadata": {},
   "source": [
    "# INFO 2950 Phase II"
   ]
  },
  {
   "cell_type": "markdown",
   "id": "bcf0b554",
   "metadata": {},
   "source": [
    "## Research Questions"
   ]
  },
  {
   "cell_type": "markdown",
   "id": "7f336ee1-2290-42ad-b87b-5864cd6a427a",
   "metadata": {},
   "source": [
    "We aim to investigate the question(s):\n",
    "* Can attaining a certain higher level of education serve as a countermeasure to poverty?\n",
    "* How does this trend hold throughout races?"
   ]
  },
  {
   "cell_type": "markdown",
   "id": "59a825f8",
   "metadata": {},
   "source": [
    "## Data Description\n",
    "\n",
    "What are the observations (rows) and the attributes (columns)?\n",
    "Why was this dataset created?\n",
    "Who funded the creation of the dataset?\n",
    "What processes might have influenced what data was observed and recorded and what was not?\n",
    "What preprocessing was done, and how did the data come to be in the form that you are using?\n",
    "If people are involved, were they aware of the data collection and if so, what purpose did they expect the data to be used for?\n",
    "Where can your raw source data be found, if applicable? Provide a link to the raw data.\n",
    "\n",
    "Notes:\n",
    "* data collected by data.census.gov\n",
    "* data can only be collected from those who respond to census survey. May be people trying to be off the grid"
   ]
  },
  {
   "cell_type": "markdown",
   "id": "24e38c11-1bbb-490f-a3f2-45870ea530fb",
   "metadata": {},
   "source": [
    "## Imports"
   ]
  },
  {
   "cell_type": "code",
   "execution_count": null,
   "id": "efa31761-7697-4025-9f77-e114832d8086",
   "metadata": {},
   "outputs": [],
   "source": [
    "import numpy as np\n",
    "import pandas as pd\n",
    "import matplotlib.pyplot as plt\n",
    "import seaborn as sns"
   ]
  },
  {
   "cell_type": "markdown",
   "id": "e596b602",
   "metadata": {},
   "source": [
    "## Data Cleaning"
   ]
  },
  {
   "cell_type": "code",
   "execution_count": null,
   "id": "f0fbb0e4",
   "metadata": {},
   "outputs": [],
   "source": []
  },
  {
   "cell_type": "markdown",
   "id": "06cd26ca",
   "metadata": {},
   "source": [
    "## Data Analysis"
   ]
  },
  {
   "cell_type": "markdown",
   "id": "e4658ba0-7475-4ba7-aee4-407cdc6842fd",
   "metadata": {},
   "source": [
    "We first separate the cleaned dataset into datasets into separate tables for gender, race, and educational level to make it easier to analyze the data."
   ]
  },
  {
   "cell_type": "code",
   "execution_count": null,
   "id": "eab603e3-e961-403b-8c37-e5fe25fc70db",
   "metadata": {},
   "outputs": [],
   "source": [
    "orig_df = pd.read_csv('Processed_Data.csv')\n",
    "orig_df"
   ]
  },
  {
   "cell_type": "code",
   "execution_count": null,
   "id": "5b85ef19-489d-41e2-a6a8-fb993033884a",
   "metadata": {},
   "outputs": [],
   "source": [
    "gender_cols = ['Total_Population', 'Total_Below_Poverty', 'Male_Population', 'Poverty_Male', 'Female_Population', 'Poverty_Female']\n",
    "gender_df = orig_df[gender_cols]\n",
    "# gender_df\n",
    "\n",
    "race_cols = ['Total_Population', 'Total_Below_Poverty', 'White_Population', 'Poverty_White', 'Black_Population', 'Poverty_Black', 'AIAN_Population', 'Poverty_AIAN', 'Asian_Population', 'Poverty_Asian', 'NHPI_Population', 'Poverty_NHPI', 'Other_Population', 'Poverty_Other']\n",
    "race_df = orig_df[race_cols]\n",
    "# race_df\n",
    "\n",
    "edu_cols = ['Total_Population', 'Total_Below_Poverty', 'Population_Less_HS', 'Poverty_Less_HS', 'Population_HS_Grad', 'Poverty_HS_Grad', 'Population_Some_College', 'Poverty_Some_College', 'Population_Bachelors_Higher', 'Poverty_Bachelors_Higher']\n",
    "edu_df = orig_df[edu_cols]\n",
    "# edu_df"
   ]
  },
  {
   "cell_type": "markdown",
   "id": "65391d64-d376-49f7-9e1c-a73c9562972b",
   "metadata": {},
   "source": [
    "We first observe the races given to us in the pie chart. We want a good idea of what races are represented in our dataset so we know what races we can possibly draw conclusions about in our analysis. It is also helpful to know how much of each race is represented in the dataset relative to each other race. For that reason, we first make a pie chart to show the percentages of each race in the dataset:"
   ]
  },
  {
   "cell_type": "code",
   "execution_count": null,
   "id": "5960d732",
   "metadata": {},
   "outputs": [],
   "source": [
    "# insert pie chart showing the percentage of each race "
   ]
  },
  {
   "cell_type": "markdown",
   "id": "1048c0b9-3992-4d5f-b97c-8a91b2bdd493",
   "metadata": {},
   "source": [
    "We also want to see what levels of education are present in the dataset to see what our education level analyses will be relative to. Below is a pie chart showing the percentages of individuals in each level of education."
   ]
  },
  {
   "cell_type": "code",
   "execution_count": null,
   "id": "11f0db9e-24cc-4668-b796-a3a0fa7da869",
   "metadata": {},
   "outputs": [],
   "source": [
    "# insert pie chart showing percentage of invidivuals in each level of education"
   ]
  },
  {
   "cell_type": "markdown",
   "id": "c122d873",
   "metadata": {},
   "source": [
    "## Data Limitations"
   ]
  },
  {
   "cell_type": "markdown",
   "id": "dc2ae8a6",
   "metadata": {},
   "source": [
    "## Questions for Reviewers"
   ]
  }
 ],
 "metadata": {
  "kernelspec": {
   "display_name": "Python 3 (ipykernel)",
   "language": "python",
   "name": "python3"
  },
  "language_info": {
   "codemirror_mode": {
    "name": "ipython",
    "version": 3
   },
   "file_extension": ".py",
   "mimetype": "text/x-python",
   "name": "python",
   "nbconvert_exporter": "python",
   "pygments_lexer": "ipython3",
   "version": "3.12.3"
  }
 },
 "nbformat": 4,
 "nbformat_minor": 5
}
