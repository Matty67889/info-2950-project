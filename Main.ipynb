{
 "cells": [
  {
   "cell_type": "markdown",
   "id": "b1e60a3e",
   "metadata": {},
   "source": [
    "# INFO 2950 Phase II"
   ]
  },
  {
   "cell_type": "markdown",
   "id": "bcf0b554",
   "metadata": {},
   "source": [
    "## Research Questions"
   ]
  },
  {
   "cell_type": "markdown",
   "id": "7f336ee1-2290-42ad-b87b-5864cd6a427a",
   "metadata": {},
   "source": [
    "We aim to investigate the question(s):\n",
    "* Can attaining a certain higher level of education serve as a countermeasure to poverty?\n",
    "* How does this trend hold throughout races?\n",
    "* Do these trends change between years?"
   ]
  },
  {
   "cell_type": "markdown",
   "id": "59a825f8",
   "metadata": {},
   "source": [
    "## Data Description\n",
    "\n",
    "What are the observations (rows) and the attributes (columns)?\n",
    "Why was this dataset created?\n",
    "Who funded the creation of the dataset?\n",
    "What processes might have influenced what data was observed and recorded and what was not?\n",
    "What preprocessing was done, and how did the data come to be in the form that you are using?\n",
    "If people are involved, were they aware of the data collection and if so, what purpose did they expect the data to be used for?\n",
    "Where can your raw source data be found, if applicable? Provide a link to the raw data.\n",
    "\n",
    "Notes:\n",
    "* data collected by data.census.gov\n",
    "* data can only be collected from those who respond to census survey. May be people trying to be off the grid\n",
    "* we do not have access to 2020 data."
   ]
  },
  {
   "cell_type": "markdown",
   "id": "24e38c11-1bbb-490f-a3f2-45870ea530fb",
   "metadata": {},
   "source": [
    "## Imports"
   ]
  },
  {
   "cell_type": "code",
   "execution_count": null,
   "id": "efa31761-7697-4025-9f77-e114832d8086",
   "metadata": {},
   "outputs": [],
   "source": [
    "import numpy as np\n",
    "import pandas as pd\n",
    "import matplotlib.pyplot as plt\n",
    "# import seaborn as sns"
   ]
  },
  {
   "cell_type": "markdown",
   "id": "e596b602",
   "metadata": {},
   "source": [
    "## Data Cleaning"
   ]
  },
  {
   "cell_type": "code",
   "execution_count": null,
   "id": "f0fbb0e4",
   "metadata": {},
   "outputs": [],
   "source": []
  },
  {
   "cell_type": "markdown",
   "id": "06cd26ca",
   "metadata": {},
   "source": [
    "## Data Analysis"
   ]
  },
  {
   "cell_type": "markdown",
   "id": "e4658ba0-7475-4ba7-aee4-407cdc6842fd",
   "metadata": {},
   "source": [
    "We first separate the cleaned dataset into datasets into separate tables for gender, race, and educational level to make it easier to analyze the data."
   ]
  },
  {
   "cell_type": "code",
   "execution_count": null,
   "id": "eab603e3-e961-403b-8c37-e5fe25fc70db",
   "metadata": {},
   "outputs": [],
   "source": [
    "orig_df = pd.read_csv('Processed_Data.csv')"
   ]
  },
  {
   "cell_type": "code",
   "execution_count": null,
   "id": "5b85ef19-489d-41e2-a6a8-fb993033884a",
   "metadata": {},
   "outputs": [],
   "source": [
    "gender_cols = ['Year', 'Total_Population', 'Total_Below_Poverty', 'Male_Population', 'Poverty_Male', 'Female_Population', 'Poverty_Female']\n",
    "gender_df = orig_df[gender_cols]\n",
    "\n",
    "race_cols = ['Year', 'Total_Population', 'Total_Below_Poverty', 'White_Population', 'Poverty_White', 'Black_Population', 'Poverty_Black', 'AIAN_Population', 'Poverty_AIAN', 'Asian_Population', 'Poverty_Asian', 'NHPI_Population', 'Poverty_NHPI', 'Other_Population', 'Poverty_Other']\n",
    "race_df = orig_df[race_cols]\n",
    "\n",
    "edu_cols = ['Year', 'Total_Population', 'Total_Below_Poverty', 'Population_Less_HS', 'Poverty_Less_HS', 'Population_HS_Grad', 'Poverty_HS_Grad', 'Population_Some_College', 'Poverty_Some_College', 'Population_Bachelors_Higher', 'Poverty_Bachelors_Higher']\n",
    "edu_df = orig_df[edu_cols]"
   ]
  },
  {
   "cell_type": "markdown",
   "id": "65391d64-d376-49f7-9e1c-a73c9562972b",
   "metadata": {},
   "source": [
    "We first observe the races given to us in the pie chart. We want a good idea of what races are represented in our dataset so we know what races we can possibly draw conclusions about in our analysis. It is also helpful to know how much of each race is represented in the dataset relative to each other race. For that reason, we first make a pie chart to show the percentages of each race in the dataset:"
   ]
  },
  {
   "cell_type": "code",
   "execution_count": null,
   "id": "7001ea94-6303-48e2-9487-23f15ef717d6",
   "metadata": {},
   "outputs": [],
   "source": [
    "def display_pie_chart_for_year(df, year, labels):\n",
    "    \"\"\"\n",
    "    Displays a pie chart using the data \n",
    "    for year `year` with the columns in\n",
    "    `labels` from the DataFrame `df`.\n",
    "\n",
    "    param df: the Dataframe to get the data from.\n",
    "    param year: the year to access the data from.\n",
    "    param labels: the columns to take the\n",
    "                  data from, as well as the\n",
    "                  sections of the pie chart.\n",
    "    \"\"\"\n",
    "    data = df[df['Year'] == year][labels]\n",
    "    # percentage display from https://matplotlib.org/stable/gallery/pie_and_polar_charts/pie_features.html\n",
    "    plt.pie(data.to_numpy()[0], labels=labels, autopct='%1.1f%%', pctdistance=1.25, labeldistance = 1.5)\n",
    "    plt.show()"
   ]
  },
  {
   "cell_type": "code",
   "execution_count": null,
   "id": "5960d732",
   "metadata": {},
   "outputs": [],
   "source": [
    "labels = ['White_Population', 'Black_Population', 'AIAN_Population', 'Asian_Population', 'NHPI_Population', 'Other_Population']\n",
    "display_pie_chart_for_year(race_df, 2014, labels)"
   ]
  },
  {
   "cell_type": "markdown",
   "id": "458f6b30-e7e8-48cd-949c-a42aac69210c",
   "metadata": {},
   "source": [
    "Looking at the earliest year we have access to, we can see that there is a large white population compared to all of the other populations. This trend continues until 2014. However, in from 2015 to 2023, the spread of population looks a bit more diverse:"
   ]
  },
  {
   "cell_type": "code",
   "execution_count": null,
   "id": "4be90773-9f73-424d-b980-a197b411b3c8",
   "metadata": {},
   "outputs": [],
   "source": [
    "labels = ['White_Population', 'Black_Population', 'AIAN_Population', 'Asian_Population', 'NHPI_Population', 'Other_Population']\n",
    "display_pie_chart_for_year(race_df, 2015, labels)"
   ]
  },
  {
   "cell_type": "markdown",
   "id": "1048c0b9-3992-4d5f-b97c-8a91b2bdd493",
   "metadata": {},
   "source": [
    "We also want to see what levels of education are present in the dataset to see what our education level analyses will be relative to. Below is a pie chart showing the percentages of individuals in each level of education."
   ]
  },
  {
   "cell_type": "code",
   "execution_count": null,
   "id": "11f0db9e-24cc-4668-b796-a3a0fa7da869",
   "metadata": {},
   "outputs": [],
   "source": [
    "labels = ['Population_Less_HS', 'Population_HS_Grad', 'Population_Some_College', 'Population_Bachelors_Higher']\n",
    "display_pie_chart_for_year(edu_df, 2014, labels)"
   ]
  },
  {
   "cell_type": "markdown",
   "id": "a01700c1-e85e-4d53-baf1-6138b85c4fb2",
   "metadata": {},
   "source": [
    "After 2015, the percentage of people recorded in the census that have had some college or a bachelors or higher increased a lot."
   ]
  },
  {
   "cell_type": "markdown",
   "id": "c122d873",
   "metadata": {},
   "source": [
    "## Data Limitations"
   ]
  },
  {
   "cell_type": "markdown",
   "id": "7dad2882-a5d4-48e2-bd23-455db25bf3df",
   "metadata": {},
   "source": [
    "* Mostly white population\n",
    "* Amount of people in each group changes throughout the years: not consistent data"
   ]
  },
  {
   "cell_type": "markdown",
   "id": "dc2ae8a6",
   "metadata": {},
   "source": [
    "## Questions for Reviewers"
   ]
  },
  {
   "cell_type": "markdown",
   "id": "9cfdfa90-83b8-4611-b0bf-0f7bc13d3f4a",
   "metadata": {},
   "source": [
    "* Good question #1\n",
    "* Good question #2"
   ]
  },
  {
   "cell_type": "markdown",
   "id": "83d743f5-446a-4006-9c87-d1448bf2a701",
   "metadata": {},
   "source": [
    "## Resources"
   ]
  },
  {
   "cell_type": "markdown",
   "id": "af836ef2-c440-41d1-8cd9-3ee9e4639d74",
   "metadata": {},
   "source": [
    "Dataset: [US Census Poverty Dataset](https://data.census.gov/table/ACSST1Y2023.S1701)"
   ]
  }
 ],
 "metadata": {
  "kernelspec": {
   "display_name": "Python 3 (ipykernel)",
   "language": "python",
   "name": "python3"
  },
  "language_info": {
   "codemirror_mode": {
    "name": "ipython",
    "version": 3
   },
   "file_extension": ".py",
   "mimetype": "text/x-python",
   "name": "python",
   "nbconvert_exporter": "python",
   "pygments_lexer": "ipython3",
   "version": "3.12.3"
  }
 },
 "nbformat": 4,
 "nbformat_minor": 5
}
