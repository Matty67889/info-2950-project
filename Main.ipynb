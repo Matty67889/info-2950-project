{
 "cells": [
  {
   "cell_type": "markdown",
   "id": "b1e60a3e",
   "metadata": {},
   "source": [
    "# INFO 2950 Phase II"
   ]
  },
  {
   "cell_type": "markdown",
   "id": "bcf0b554",
   "metadata": {},
   "source": [
    "## Research Questions"
   ]
  },
  {
   "cell_type": "markdown",
   "id": "59a825f8",
   "metadata": {},
   "source": [
    "## Data Description\n",
    "\n",
    "What are the observations (rows) and the attributes (columns)?\n",
    "Why was this dataset created?\n",
    "Who funded the creation of the dataset?\n",
    "What processes might have influenced what data was observed and recorded and what was not?\n",
    "What preprocessing was done, and how did the data come to be in the form that you are using?\n",
    "If people are involved, were they aware of the data collection and if so, what purpose did they expect the data to be used for?\n",
    "Where can your raw source data be found, if applicable? Provide a link to the raw data."
   ]
  },
  {
   "cell_type": "markdown",
   "id": "e596b602",
   "metadata": {},
   "source": [
    "## Data Cleaning:"
   ]
  },
  {
   "cell_type": "code",
   "execution_count": null,
   "metadata": {},
   "outputs": [],
   "source": []
  },
  {
   "cell_type": "markdown",
   "id": "06cd26ca",
   "metadata": {},
   "source": [
    "## Data Analysis"
   ]
  },
  {
   "cell_type": "code",
   "execution_count": null,
   "id": "5960d732",
   "metadata": {},
   "outputs": [],
   "source": []
  },
  {
   "cell_type": "markdown",
   "id": "c122d873",
   "metadata": {},
   "source": [
    "## Data Limitations"
   ]
  },
  {
   "cell_type": "markdown",
   "id": "dc2ae8a6",
   "metadata": {},
   "source": [
    "## Questions for Reviewers"
   ]
  }
 ],
 "metadata": {
  "language_info": {
   "name": "python"
  }
 },
 "nbformat": 4,
 "nbformat_minor": 5
}
